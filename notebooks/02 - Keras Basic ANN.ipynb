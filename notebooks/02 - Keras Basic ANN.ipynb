{
 "cells": [
  {
   "cell_type": "markdown",
   "metadata": {},
   "source": [
    "# Notebook 02 - Keras Basic ANN"
   ]
  },
  {
   "cell_type": "markdown",
   "metadata": {},
   "source": [
    "Dataset: https://www.kaggle.com/datasets/gyanprakashkushwaha/laptop-price-prediction-cleaned-dataset"
   ]
  },
  {
   "cell_type": "code",
   "execution_count": 3,
   "metadata": {},
   "outputs": [
    {
     "name": "stdout",
     "output_type": "stream",
     "text": [
      "Requirement already satisfied: keras-tuner in c:\\users\\grego\\.conda\\envs\\tf_gpu_env\\lib\\site-packages (1.4.7)\n",
      "Requirement already satisfied: keras in c:\\users\\grego\\.conda\\envs\\tf_gpu_env\\lib\\site-packages (from keras-tuner) (2.8.0)\n",
      "Requirement already satisfied: kt-legacy in c:\\users\\grego\\.conda\\envs\\tf_gpu_env\\lib\\site-packages (from keras-tuner) (1.0.5)\n",
      "Requirement already satisfied: requests in c:\\users\\grego\\.conda\\envs\\tf_gpu_env\\lib\\site-packages (from keras-tuner) (2.27.1)\n",
      "Requirement already satisfied: packaging in c:\\users\\grego\\.conda\\envs\\tf_gpu_env\\lib\\site-packages (from keras-tuner) (21.3)\n",
      "Requirement already satisfied: pyparsing!=3.0.5,>=2.0.2 in c:\\users\\grego\\.conda\\envs\\tf_gpu_env\\lib\\site-packages (from packaging->keras-tuner) (3.0.4)\n",
      "Requirement already satisfied: charset-normalizer~=2.0.0 in c:\\users\\grego\\.conda\\envs\\tf_gpu_env\\lib\\site-packages (from requests->keras-tuner) (2.0.4)\n",
      "Requirement already satisfied: certifi>=2017.4.17 in c:\\users\\grego\\.conda\\envs\\tf_gpu_env\\lib\\site-packages (from requests->keras-tuner) (2024.2.2)\n",
      "Requirement already satisfied: urllib3<1.27,>=1.21.1 in c:\\users\\grego\\.conda\\envs\\tf_gpu_env\\lib\\site-packages (from requests->keras-tuner) (1.26.9)\n",
      "Requirement already satisfied: idna<4,>=2.5 in c:\\users\\grego\\.conda\\envs\\tf_gpu_env\\lib\\site-packages (from requests->keras-tuner) (3.3)\n"
     ]
    },
    {
     "name": "stderr",
     "output_type": "stream",
     "text": [
      "WARNING: Ignoring invalid distribution -rotobuf (c:\\users\\grego\\.conda\\envs\\tf_gpu_env\\lib\\site-packages)\n",
      "WARNING: Ignoring invalid distribution -rotobuf (c:\\users\\grego\\.conda\\envs\\tf_gpu_env\\lib\\site-packages)\n",
      "WARNING: Ignoring invalid distribution -rotobuf (c:\\users\\grego\\.conda\\envs\\tf_gpu_env\\lib\\site-packages)\n",
      "WARNING: Ignoring invalid distribution -rotobuf (c:\\users\\grego\\.conda\\envs\\tf_gpu_env\\lib\\site-packages)\n",
      "WARNING: Ignoring invalid distribution -rotobuf (c:\\users\\grego\\.conda\\envs\\tf_gpu_env\\lib\\site-packages)\n",
      "WARNING: Ignoring invalid distribution -rotobuf (c:\\users\\grego\\.conda\\envs\\tf_gpu_env\\lib\\site-packages)\n",
      "\n",
      "[notice] A new release of pip available: 22.2.2 -> 24.0\n",
      "[notice] To update, run: python.exe -m pip install --upgrade pip\n"
     ]
    }
   ],
   "source": [
    "!pip install keras-tuner"
   ]
  },
  {
   "cell_type": "code",
   "execution_count": 1,
   "metadata": {},
   "outputs": [],
   "source": [
    "import keras_tuner as kt\n",
    "\n",
    "import pandas as pd\n",
    "import numpy as np\n",
    "import random\n",
    "\n",
    "import tensorflow as tf\n",
    "from tensorflow.keras.layers import Dense\n",
    "from tensorflow.keras.models import Sequential,Model\n",
    "from tensorflow.keras.utils import plot_model\n",
    "# import seaborn as sns\n",
    "from matplotlib import pyplot as plt\n",
    "\n",
    "from sklearn.model_selection import train_test_split\n",
    "from sklearn.preprocessing import RobustScaler,StandardScaler,OneHotEncoder,OrdinalEncoder\n",
    "\n",
    "SEED_VALUE=123\n",
    "random.seed(SEED_VALUE)\n",
    "np.random.seed(SEED_VALUE)"
   ]
  },
  {
   "cell_type": "code",
   "execution_count": 4,
   "metadata": {},
   "outputs": [
    {
     "name": "stdout",
     "output_type": "stream",
     "text": [
      "num Device:  2\n",
      "[PhysicalDevice(name='/physical_device:CPU:0', device_type='CPU'), PhysicalDevice(name='/physical_device:GPU:0', device_type='GPU')]\n"
     ]
    }
   ],
   "source": [
    "print('num Device: ',len(tf.config.experimental.list_physical_devices()))\n",
    "print(tf.config.experimental.list_physical_devices())"
   ]
  },
  {
   "cell_type": "code",
   "execution_count": 6,
   "metadata": {},
   "outputs": [
    {
     "data": {
      "text/html": [
       "<div>\n",
       "<style scoped>\n",
       "    .dataframe tbody tr th:only-of-type {\n",
       "        vertical-align: middle;\n",
       "    }\n",
       "\n",
       "    .dataframe tbody tr th {\n",
       "        vertical-align: top;\n",
       "    }\n",
       "\n",
       "    .dataframe thead th {\n",
       "        text-align: right;\n",
       "    }\n",
       "</style>\n",
       "<table border=\"1\" class=\"dataframe\">\n",
       "  <thead>\n",
       "    <tr style=\"text-align: right;\">\n",
       "      <th></th>\n",
       "      <th>Company</th>\n",
       "      <th>TypeName</th>\n",
       "      <th>Ram</th>\n",
       "      <th>Weight</th>\n",
       "      <th>Price</th>\n",
       "      <th>TouchScreen</th>\n",
       "      <th>Ips</th>\n",
       "      <th>Ppi</th>\n",
       "      <th>Cpu_brand</th>\n",
       "      <th>HDD</th>\n",
       "      <th>SSD</th>\n",
       "      <th>Gpu_brand</th>\n",
       "      <th>Os</th>\n",
       "    </tr>\n",
       "  </thead>\n",
       "  <tbody>\n",
       "    <tr>\n",
       "      <th>0</th>\n",
       "      <td>Apple</td>\n",
       "      <td>Ultrabook</td>\n",
       "      <td>8</td>\n",
       "      <td>1.37</td>\n",
       "      <td>11.175755</td>\n",
       "      <td>0</td>\n",
       "      <td>1</td>\n",
       "      <td>226.983005</td>\n",
       "      <td>Intel Core i5</td>\n",
       "      <td>0</td>\n",
       "      <td>128</td>\n",
       "      <td>Intel</td>\n",
       "      <td>Mac</td>\n",
       "    </tr>\n",
       "    <tr>\n",
       "      <th>1</th>\n",
       "      <td>Apple</td>\n",
       "      <td>Ultrabook</td>\n",
       "      <td>8</td>\n",
       "      <td>1.34</td>\n",
       "      <td>10.776777</td>\n",
       "      <td>0</td>\n",
       "      <td>0</td>\n",
       "      <td>127.677940</td>\n",
       "      <td>Intel Core i5</td>\n",
       "      <td>0</td>\n",
       "      <td>0</td>\n",
       "      <td>Intel</td>\n",
       "      <td>Mac</td>\n",
       "    </tr>\n",
       "    <tr>\n",
       "      <th>2</th>\n",
       "      <td>HP</td>\n",
       "      <td>Notebook</td>\n",
       "      <td>8</td>\n",
       "      <td>1.86</td>\n",
       "      <td>10.329931</td>\n",
       "      <td>0</td>\n",
       "      <td>0</td>\n",
       "      <td>141.211998</td>\n",
       "      <td>Intel Core i5</td>\n",
       "      <td>0</td>\n",
       "      <td>256</td>\n",
       "      <td>Intel</td>\n",
       "      <td>Others</td>\n",
       "    </tr>\n",
       "    <tr>\n",
       "      <th>3</th>\n",
       "      <td>Apple</td>\n",
       "      <td>Ultrabook</td>\n",
       "      <td>16</td>\n",
       "      <td>1.83</td>\n",
       "      <td>11.814476</td>\n",
       "      <td>0</td>\n",
       "      <td>1</td>\n",
       "      <td>220.534624</td>\n",
       "      <td>Intel Core i7</td>\n",
       "      <td>0</td>\n",
       "      <td>512</td>\n",
       "      <td>AMD</td>\n",
       "      <td>Mac</td>\n",
       "    </tr>\n",
       "    <tr>\n",
       "      <th>4</th>\n",
       "      <td>Apple</td>\n",
       "      <td>Ultrabook</td>\n",
       "      <td>8</td>\n",
       "      <td>1.37</td>\n",
       "      <td>11.473101</td>\n",
       "      <td>0</td>\n",
       "      <td>1</td>\n",
       "      <td>226.983005</td>\n",
       "      <td>Intel Core i5</td>\n",
       "      <td>0</td>\n",
       "      <td>256</td>\n",
       "      <td>Intel</td>\n",
       "      <td>Mac</td>\n",
       "    </tr>\n",
       "  </tbody>\n",
       "</table>\n",
       "</div>"
      ],
      "text/plain": [
       "  Company   TypeName  Ram  Weight      Price  TouchScreen  Ips         Ppi  \\\n",
       "0   Apple  Ultrabook    8    1.37  11.175755            0    1  226.983005   \n",
       "1   Apple  Ultrabook    8    1.34  10.776777            0    0  127.677940   \n",
       "2      HP   Notebook    8    1.86  10.329931            0    0  141.211998   \n",
       "3   Apple  Ultrabook   16    1.83  11.814476            0    1  220.534624   \n",
       "4   Apple  Ultrabook    8    1.37  11.473101            0    1  226.983005   \n",
       "\n",
       "       Cpu_brand  HDD  SSD Gpu_brand      Os  \n",
       "0  Intel Core i5    0  128     Intel     Mac  \n",
       "1  Intel Core i5    0    0     Intel     Mac  \n",
       "2  Intel Core i5    0  256     Intel  Others  \n",
       "3  Intel Core i7    0  512       AMD     Mac  \n",
       "4  Intel Core i5    0  256     Intel     Mac  "
      ]
     },
     "execution_count": 6,
     "metadata": {},
     "output_type": "execute_result"
    }
   ],
   "source": [
    "df = pd.read_csv('../data/laptop_data_cleaned.csv')\n",
    "df.head()"
   ]
  },
  {
   "cell_type": "markdown",
   "metadata": {},
   "source": [
    "# Simple EDA"
   ]
  },
  {
   "cell_type": "code",
   "execution_count": 4,
   "metadata": {},
   "outputs": [
    {
     "name": "stdout",
     "output_type": "stream",
     "text": [
      "<class 'pandas.core.frame.DataFrame'>\n",
      "RangeIndex: 1273 entries, 0 to 1272\n",
      "Data columns (total 13 columns):\n",
      " #   Column       Non-Null Count  Dtype  \n",
      "---  ------       --------------  -----  \n",
      " 0   Company      1273 non-null   object \n",
      " 1   TypeName     1273 non-null   object \n",
      " 2   Ram          1273 non-null   int64  \n",
      " 3   Weight       1273 non-null   float64\n",
      " 4   Price        1273 non-null   float64\n",
      " 5   TouchScreen  1273 non-null   int64  \n",
      " 6   Ips          1273 non-null   int64  \n",
      " 7   Ppi          1273 non-null   float64\n",
      " 8   Cpu_brand    1273 non-null   object \n",
      " 9   HDD          1273 non-null   int64  \n",
      " 10  SSD          1273 non-null   int64  \n",
      " 11  Gpu_brand    1273 non-null   object \n",
      " 12  Os           1273 non-null   object \n",
      "dtypes: float64(3), int64(5), object(5)\n",
      "memory usage: 129.4+ KB\n"
     ]
    }
   ],
   "source": [
    "df.info()"
   ]
  },
  {
   "cell_type": "code",
   "execution_count": 5,
   "metadata": {},
   "outputs": [
    {
     "data": {
      "text/plain": [
       "Company        0\n",
       "TypeName       0\n",
       "Ram            0\n",
       "Weight         0\n",
       "Price          0\n",
       "TouchScreen    0\n",
       "Ips            0\n",
       "Ppi            0\n",
       "Cpu_brand      0\n",
       "HDD            0\n",
       "SSD            0\n",
       "Gpu_brand      0\n",
       "Os             0\n",
       "dtype: int64"
      ]
     },
     "execution_count": 5,
     "metadata": {},
     "output_type": "execute_result"
    }
   ],
   "source": [
    "df.isna().sum()"
   ]
  },
  {
   "cell_type": "code",
   "execution_count": 7,
   "metadata": {},
   "outputs": [
    {
     "data": {
      "text/plain": [
       "1"
      ]
     },
     "execution_count": 7,
     "metadata": {},
     "output_type": "execute_result"
    }
   ],
   "source": [
    "df.duplicated().sum()"
   ]
  },
  {
   "cell_type": "code",
   "execution_count": 8,
   "metadata": {},
   "outputs": [
    {
     "data": {
      "text/plain": [
       "0"
      ]
     },
     "execution_count": 8,
     "metadata": {},
     "output_type": "execute_result"
    }
   ],
   "source": [
    "df.drop_duplicates(inplace=True)\n",
    "df.duplicated().sum()"
   ]
  },
  {
   "cell_type": "markdown",
   "metadata": {},
   "source": [
    "# Splitting Columns"
   ]
  },
  {
   "cell_type": "code",
   "execution_count": 9,
   "metadata": {},
   "outputs": [
    {
     "name": "stdout",
     "output_type": "stream",
     "text": [
      "['Ram', 'Weight', 'Price', 'TouchScreen', 'Ips', 'Ppi', 'HDD', 'SSD']\n",
      "['Company', 'TypeName', 'Cpu_brand', 'Gpu_brand', 'Os']\n"
     ]
    }
   ],
   "source": [
    "num_cols = []\n",
    "cat_cols = []\n",
    "\n",
    "for i in df.columns:\n",
    "    if df[i].dtype == 'object':\n",
    "        cat_cols.append(i)\n",
    "    elif \"int\" in str(df[i].dtype) or \"float\" in str(df[i].dtype):\n",
    "        num_cols.append(i)\n",
    "        \n",
    "print(num_cols)\n",
    "print(cat_cols)"
   ]
  },
  {
   "cell_type": "code",
   "execution_count": 9,
   "metadata": {},
   "outputs": [
    {
     "data": {
      "text/html": [
       "<div>\n",
       "<style scoped>\n",
       "    .dataframe tbody tr th:only-of-type {\n",
       "        vertical-align: middle;\n",
       "    }\n",
       "\n",
       "    .dataframe tbody tr th {\n",
       "        vertical-align: top;\n",
       "    }\n",
       "\n",
       "    .dataframe thead th {\n",
       "        text-align: right;\n",
       "    }\n",
       "</style>\n",
       "<table border=\"1\" class=\"dataframe\">\n",
       "  <thead>\n",
       "    <tr style=\"text-align: right;\">\n",
       "      <th></th>\n",
       "      <th>Company</th>\n",
       "      <th>TypeName</th>\n",
       "      <th>Ram</th>\n",
       "      <th>Weight</th>\n",
       "      <th>Price</th>\n",
       "      <th>TouchScreen</th>\n",
       "      <th>Ips</th>\n",
       "      <th>Ppi</th>\n",
       "      <th>Cpu_brand</th>\n",
       "      <th>HDD</th>\n",
       "      <th>SSD</th>\n",
       "      <th>Gpu_brand</th>\n",
       "      <th>Os</th>\n",
       "    </tr>\n",
       "  </thead>\n",
       "  <tbody>\n",
       "    <tr>\n",
       "      <th>0</th>\n",
       "      <td>Apple</td>\n",
       "      <td>Ultrabook</td>\n",
       "      <td>8</td>\n",
       "      <td>1.37</td>\n",
       "      <td>11.175755</td>\n",
       "      <td>0</td>\n",
       "      <td>1</td>\n",
       "      <td>226.983005</td>\n",
       "      <td>Intel Core i5</td>\n",
       "      <td>0</td>\n",
       "      <td>128</td>\n",
       "      <td>Intel</td>\n",
       "      <td>Mac</td>\n",
       "    </tr>\n",
       "    <tr>\n",
       "      <th>1</th>\n",
       "      <td>Apple</td>\n",
       "      <td>Ultrabook</td>\n",
       "      <td>8</td>\n",
       "      <td>1.34</td>\n",
       "      <td>10.776777</td>\n",
       "      <td>0</td>\n",
       "      <td>0</td>\n",
       "      <td>127.677940</td>\n",
       "      <td>Intel Core i5</td>\n",
       "      <td>0</td>\n",
       "      <td>0</td>\n",
       "      <td>Intel</td>\n",
       "      <td>Mac</td>\n",
       "    </tr>\n",
       "    <tr>\n",
       "      <th>2</th>\n",
       "      <td>HP</td>\n",
       "      <td>Notebook</td>\n",
       "      <td>8</td>\n",
       "      <td>1.86</td>\n",
       "      <td>10.329931</td>\n",
       "      <td>0</td>\n",
       "      <td>0</td>\n",
       "      <td>141.211998</td>\n",
       "      <td>Intel Core i5</td>\n",
       "      <td>0</td>\n",
       "      <td>256</td>\n",
       "      <td>Intel</td>\n",
       "      <td>Others</td>\n",
       "    </tr>\n",
       "    <tr>\n",
       "      <th>3</th>\n",
       "      <td>Apple</td>\n",
       "      <td>Ultrabook</td>\n",
       "      <td>16</td>\n",
       "      <td>1.83</td>\n",
       "      <td>11.814476</td>\n",
       "      <td>0</td>\n",
       "      <td>1</td>\n",
       "      <td>220.534624</td>\n",
       "      <td>Intel Core i7</td>\n",
       "      <td>0</td>\n",
       "      <td>512</td>\n",
       "      <td>AMD</td>\n",
       "      <td>Mac</td>\n",
       "    </tr>\n",
       "    <tr>\n",
       "      <th>4</th>\n",
       "      <td>Apple</td>\n",
       "      <td>Ultrabook</td>\n",
       "      <td>8</td>\n",
       "      <td>1.37</td>\n",
       "      <td>11.473101</td>\n",
       "      <td>0</td>\n",
       "      <td>1</td>\n",
       "      <td>226.983005</td>\n",
       "      <td>Intel Core i5</td>\n",
       "      <td>0</td>\n",
       "      <td>256</td>\n",
       "      <td>Intel</td>\n",
       "      <td>Mac</td>\n",
       "    </tr>\n",
       "  </tbody>\n",
       "</table>\n",
       "</div>"
      ],
      "text/plain": [
       "  Company   TypeName  Ram  Weight      Price  TouchScreen  Ips         Ppi  \\\n",
       "0   Apple  Ultrabook    8    1.37  11.175755            0    1  226.983005   \n",
       "1   Apple  Ultrabook    8    1.34  10.776777            0    0  127.677940   \n",
       "2      HP   Notebook    8    1.86  10.329931            0    0  141.211998   \n",
       "3   Apple  Ultrabook   16    1.83  11.814476            0    1  220.534624   \n",
       "4   Apple  Ultrabook    8    1.37  11.473101            0    1  226.983005   \n",
       "\n",
       "       Cpu_brand  HDD  SSD Gpu_brand      Os  \n",
       "0  Intel Core i5    0  128     Intel     Mac  \n",
       "1  Intel Core i5    0    0     Intel     Mac  \n",
       "2  Intel Core i5    0  256     Intel  Others  \n",
       "3  Intel Core i7    0  512       AMD     Mac  \n",
       "4  Intel Core i5    0  256     Intel     Mac  "
      ]
     },
     "execution_count": 9,
     "metadata": {},
     "output_type": "execute_result"
    }
   ],
   "source": [
    "df.head()"
   ]
  },
  {
   "cell_type": "code",
   "execution_count": 10,
   "metadata": {},
   "outputs": [
    {
     "data": {
      "text/plain": [
       "array([ 8, 16,  4,  2, 12,  6, 32, 24, 64], dtype=int64)"
      ]
     },
     "execution_count": 10,
     "metadata": {},
     "output_type": "execute_result"
    }
   ],
   "source": [
    "df['Ram'].unique()"
   ]
  },
  {
   "cell_type": "code",
   "execution_count": 10,
   "metadata": {},
   "outputs": [
    {
     "name": "stdout",
     "output_type": "stream",
     "text": [
      "['Weight', 'Price', 'Ips', 'Ppi']\n",
      "['Company', 'TypeName', 'Cpu_brand', 'Gpu_brand', 'Os', 'HDD', 'SSD', 'Ram', 'TouchScreen']\n"
     ]
    }
   ],
   "source": [
    "cat_cols.extend(['HDD','SSD','Ram','TouchScreen'])\n",
    "for i in ['HDD','SSD','Ram','TouchScreen']:\n",
    "    num_cols.remove(i)\n",
    "\n",
    "print(num_cols)\n",
    "print(cat_cols)"
   ]
  },
  {
   "cell_type": "code",
   "execution_count": 11,
   "metadata": {},
   "outputs": [
    {
     "name": "stdout",
     "output_type": "stream",
     "text": [
      "Company: 19\n",
      "['Apple' 'HP' 'Acer' 'Asus' 'Dell' 'Lenovo' 'Chuwi' 'MSI' 'Microsoft'\n",
      " 'Toshiba' 'Huawei' 'Xiaomi' 'Vero' 'Razer' 'Mediacom' 'Samsung' 'Google'\n",
      " 'Fujitsu' 'LG']\n",
      "\n",
      "TypeName: 6\n",
      "['Ultrabook' 'Notebook' 'Netbook' 'Gaming' '2 in 1 Convertible'\n",
      " 'Workstation']\n",
      "\n",
      "Cpu_brand: 5\n",
      "['Intel Core i5' 'Intel Core i7' 'AMD Processor' 'Intel Core i3'\n",
      " 'Other Intel Processor']\n",
      "\n",
      "Gpu_brand: 3\n",
      "['Intel' 'AMD' 'Nvidia']\n",
      "\n",
      "Os: 3\n",
      "['Mac' 'Others' 'Windows']\n",
      "\n",
      "HDD: 6\n",
      "[   0  500 1000 2000   32  128]\n",
      "\n",
      "SSD: 13\n",
      "[ 128    0  256  512   32   64 1000 1024   16  768  180  240    8]\n",
      "\n",
      "Ram: 9\n",
      "[ 8 16  4  2 12  6 32 24 64]\n",
      "\n",
      "TouchScreen: 2\n",
      "[0 1]\n",
      "\n"
     ]
    }
   ],
   "source": [
    "for i in cat_cols:\n",
    "    print(f'{i}: {df[i].nunique()}')\n",
    "    print(df[i].unique())\n",
    "    print()"
   ]
  },
  {
   "cell_type": "code",
   "execution_count": 12,
   "metadata": {},
   "outputs": [
    {
     "name": "stdout",
     "output_type": "stream",
     "text": [
      "['HDD', 'SSD', 'Ram'] ['Company', 'TypeName', 'Cpu_brand', 'Gpu_brand', 'Os', 'TouchScreen']\n"
     ]
    }
   ],
   "source": [
    "ord_cols = ['HDD','SSD','Ram']\n",
    "nom_cols = [i for i in cat_cols if i not in ord_cols]\n",
    "\n",
    "print(ord_cols,nom_cols)"
   ]
  },
  {
   "cell_type": "markdown",
   "metadata": {},
   "source": [
    "# Data Splitting"
   ]
  },
  {
   "cell_type": "code",
   "execution_count": 13,
   "metadata": {},
   "outputs": [],
   "source": [
    "x,y = df.drop(['Price'],axis=1),df['Price']"
   ]
  },
  {
   "cell_type": "code",
   "execution_count": 14,
   "metadata": {},
   "outputs": [
    {
     "name": "stdout",
     "output_type": "stream",
     "text": [
      "(762, 12) (762,)\n",
      "(255, 12) (255,)\n",
      "(255, 12) (255,)\n"
     ]
    }
   ],
   "source": [
    "x_train,x_test,y_train,y_test = train_test_split(x,y, test_size = 0.2,random_state = SEED_VALUE)\n",
    "x_train,x_val,y_train,y_val = train_test_split(x_train,y_train, test_size = 0.25,random_state = SEED_VALUE)\n",
    "print(x_train.shape,y_train.shape)\n",
    "print(x_val.shape,y_val.shape)\n",
    "print(x_test.shape,y_test.shape)"
   ]
  },
  {
   "cell_type": "code",
   "execution_count": 15,
   "metadata": {},
   "outputs": [],
   "source": [
    "ohe_encoder = OneHotEncoder(sparse_output=False,handle_unknown='ignore')\n",
    "new_nom_cols = ohe_encoder.fit_transform(x_train[nom_cols])\n",
    "encoded_data = pd.DataFrame(new_nom_cols, columns=ohe_encoder.get_feature_names_out(nom_cols))\n",
    "x_train = x_train.reset_index(drop=True)\n",
    "x_train = pd.concat([x_train.drop(nom_cols,axis=1,errors='ignore'),encoded_data],axis=1)\n",
    "\n",
    "new_nom_cols = ohe_encoder.transform(x_val[nom_cols])\n",
    "encoded_data = pd.DataFrame(new_nom_cols, columns=ohe_encoder.get_feature_names_out(nom_cols))\n",
    "x_val = x_val.reset_index(drop=True)\n",
    "x_val = pd.concat([x_val.drop(nom_cols,axis=1,errors='ignore'),encoded_data],axis=1)\n",
    "\n",
    "new_nom_cols = ohe_encoder.transform(x_test[nom_cols])\n",
    "encoded_data = pd.DataFrame(new_nom_cols, columns=ohe_encoder.get_feature_names_out(nom_cols))\n",
    "x_test = x_test.reset_index(drop=True)\n",
    "x_test = pd.concat([x_test.drop(nom_cols,axis=1,errors='ignore'),encoded_data],axis=1)"
   ]
  },
  {
   "cell_type": "code",
   "execution_count": 16,
   "metadata": {},
   "outputs": [
    {
     "data": {
      "text/plain": [
       "{'HDD': array([   0,   32,  500, 1000, 2000], dtype=int64),\n",
       " 'SSD': array([   0,   16,   32,   64,  128,  180,  256,  512,  768, 1000],\n",
       "       dtype=int64),\n",
       " 'Ram': array([ 2,  4,  6,  8, 12, 16, 24, 32], dtype=int64)}"
      ]
     },
     "execution_count": 16,
     "metadata": {},
     "output_type": "execute_result"
    }
   ],
   "source": [
    "ord_cat = {}\n",
    "for i in ord_cols:\n",
    "    ord_cat[i] = np.sort(x_train[i].unique())\n",
    "ord_cat"
   ]
  },
  {
   "cell_type": "code",
   "execution_count": 17,
   "metadata": {},
   "outputs": [],
   "source": [
    "ord_encoder = OrdinalEncoder(categories=[ord_cat['HDD'],ord_cat['SSD'],ord_cat['Ram']],handle_unknown='use_encoded_value',unknown_value=-1).fit(x_train[ord_cols])\n",
    "x_train[ord_cols] = ord_encoder.transform(x_train[ord_cols])\n",
    "x_test[ord_cols] = ord_encoder.transform(x_test[ord_cols])\n",
    "x_val[ord_cols] = ord_encoder.transform(x_val[ord_cols])"
   ]
  },
  {
   "cell_type": "code",
   "execution_count": 43,
   "metadata": {},
   "outputs": [
    {
     "data": {
      "text/html": [
       "<div>\n",
       "<style scoped>\n",
       "    .dataframe tbody tr th:only-of-type {\n",
       "        vertical-align: middle;\n",
       "    }\n",
       "\n",
       "    .dataframe tbody tr th {\n",
       "        vertical-align: top;\n",
       "    }\n",
       "\n",
       "    .dataframe thead th {\n",
       "        text-align: right;\n",
       "    }\n",
       "</style>\n",
       "<table border=\"1\" class=\"dataframe\">\n",
       "  <thead>\n",
       "    <tr style=\"text-align: right;\">\n",
       "      <th></th>\n",
       "      <th>Ram</th>\n",
       "      <th>Weight</th>\n",
       "      <th>TouchScreen</th>\n",
       "      <th>Ips</th>\n",
       "      <th>Ppi</th>\n",
       "      <th>HDD</th>\n",
       "      <th>SSD</th>\n",
       "      <th>Company_Acer</th>\n",
       "      <th>Company_Apple</th>\n",
       "      <th>Company_Asus</th>\n",
       "      <th>...</th>\n",
       "      <th>Cpu_brand_Intel Core i3</th>\n",
       "      <th>Cpu_brand_Intel Core i5</th>\n",
       "      <th>Cpu_brand_Intel Core i7</th>\n",
       "      <th>Cpu_brand_Other Intel Processor</th>\n",
       "      <th>Gpu_brand_AMD</th>\n",
       "      <th>Gpu_brand_Intel</th>\n",
       "      <th>Gpu_brand_Nvidia</th>\n",
       "      <th>Os_Mac</th>\n",
       "      <th>Os_Others</th>\n",
       "      <th>Os_Windows</th>\n",
       "    </tr>\n",
       "  </thead>\n",
       "  <tbody>\n",
       "    <tr>\n",
       "      <th>0</th>\n",
       "      <td>3.0</td>\n",
       "      <td>3.52</td>\n",
       "      <td>0</td>\n",
       "      <td>0</td>\n",
       "      <td>127.335675</td>\n",
       "      <td>3.0</td>\n",
       "      <td>4.0</td>\n",
       "      <td>0.0</td>\n",
       "      <td>0.0</td>\n",
       "      <td>1.0</td>\n",
       "      <td>...</td>\n",
       "      <td>0.0</td>\n",
       "      <td>0.0</td>\n",
       "      <td>1.0</td>\n",
       "      <td>0.0</td>\n",
       "      <td>0.0</td>\n",
       "      <td>0.0</td>\n",
       "      <td>1.0</td>\n",
       "      <td>0.0</td>\n",
       "      <td>0.0</td>\n",
       "      <td>1.0</td>\n",
       "    </tr>\n",
       "    <tr>\n",
       "      <th>1</th>\n",
       "      <td>1.0</td>\n",
       "      <td>1.35</td>\n",
       "      <td>0</td>\n",
       "      <td>1</td>\n",
       "      <td>135.094211</td>\n",
       "      <td>0.0</td>\n",
       "      <td>0.0</td>\n",
       "      <td>1.0</td>\n",
       "      <td>0.0</td>\n",
       "      <td>0.0</td>\n",
       "      <td>...</td>\n",
       "      <td>0.0</td>\n",
       "      <td>0.0</td>\n",
       "      <td>0.0</td>\n",
       "      <td>1.0</td>\n",
       "      <td>0.0</td>\n",
       "      <td>1.0</td>\n",
       "      <td>0.0</td>\n",
       "      <td>0.0</td>\n",
       "      <td>1.0</td>\n",
       "      <td>0.0</td>\n",
       "    </tr>\n",
       "    <tr>\n",
       "      <th>2</th>\n",
       "      <td>4.0</td>\n",
       "      <td>2.20</td>\n",
       "      <td>1</td>\n",
       "      <td>0</td>\n",
       "      <td>100.454670</td>\n",
       "      <td>3.0</td>\n",
       "      <td>0.0</td>\n",
       "      <td>0.0</td>\n",
       "      <td>0.0</td>\n",
       "      <td>0.0</td>\n",
       "      <td>...</td>\n",
       "      <td>0.0</td>\n",
       "      <td>0.0</td>\n",
       "      <td>1.0</td>\n",
       "      <td>0.0</td>\n",
       "      <td>0.0</td>\n",
       "      <td>1.0</td>\n",
       "      <td>0.0</td>\n",
       "      <td>0.0</td>\n",
       "      <td>0.0</td>\n",
       "      <td>1.0</td>\n",
       "    </tr>\n",
       "    <tr>\n",
       "      <th>3</th>\n",
       "      <td>3.0</td>\n",
       "      <td>2.13</td>\n",
       "      <td>0</td>\n",
       "      <td>0</td>\n",
       "      <td>141.211998</td>\n",
       "      <td>0.0</td>\n",
       "      <td>6.0</td>\n",
       "      <td>0.0</td>\n",
       "      <td>0.0</td>\n",
       "      <td>0.0</td>\n",
       "      <td>...</td>\n",
       "      <td>0.0</td>\n",
       "      <td>1.0</td>\n",
       "      <td>0.0</td>\n",
       "      <td>0.0</td>\n",
       "      <td>1.0</td>\n",
       "      <td>0.0</td>\n",
       "      <td>0.0</td>\n",
       "      <td>0.0</td>\n",
       "      <td>0.0</td>\n",
       "      <td>1.0</td>\n",
       "    </tr>\n",
       "    <tr>\n",
       "      <th>4</th>\n",
       "      <td>5.0</td>\n",
       "      <td>4.60</td>\n",
       "      <td>0</td>\n",
       "      <td>1</td>\n",
       "      <td>127.335675</td>\n",
       "      <td>3.0</td>\n",
       "      <td>4.0</td>\n",
       "      <td>0.0</td>\n",
       "      <td>0.0</td>\n",
       "      <td>0.0</td>\n",
       "      <td>...</td>\n",
       "      <td>0.0</td>\n",
       "      <td>0.0</td>\n",
       "      <td>1.0</td>\n",
       "      <td>0.0</td>\n",
       "      <td>0.0</td>\n",
       "      <td>0.0</td>\n",
       "      <td>1.0</td>\n",
       "      <td>0.0</td>\n",
       "      <td>0.0</td>\n",
       "      <td>1.0</td>\n",
       "    </tr>\n",
       "  </tbody>\n",
       "</table>\n",
       "<p>5 rows × 43 columns</p>\n",
       "</div>"
      ],
      "text/plain": [
       "   Ram  Weight  TouchScreen  Ips         Ppi  HDD  SSD  Company_Acer  \\\n",
       "0  3.0    3.52            0    0  127.335675  3.0  4.0           0.0   \n",
       "1  1.0    1.35            0    1  135.094211  0.0  0.0           1.0   \n",
       "2  4.0    2.20            1    0  100.454670  3.0  0.0           0.0   \n",
       "3  3.0    2.13            0    0  141.211998  0.0  6.0           0.0   \n",
       "4  5.0    4.60            0    1  127.335675  3.0  4.0           0.0   \n",
       "\n",
       "   Company_Apple  Company_Asus  ...  Cpu_brand_Intel Core i3  \\\n",
       "0            0.0           1.0  ...                      0.0   \n",
       "1            0.0           0.0  ...                      0.0   \n",
       "2            0.0           0.0  ...                      0.0   \n",
       "3            0.0           0.0  ...                      0.0   \n",
       "4            0.0           0.0  ...                      0.0   \n",
       "\n",
       "   Cpu_brand_Intel Core i5  Cpu_brand_Intel Core i7  \\\n",
       "0                      0.0                      1.0   \n",
       "1                      0.0                      0.0   \n",
       "2                      0.0                      1.0   \n",
       "3                      1.0                      0.0   \n",
       "4                      0.0                      1.0   \n",
       "\n",
       "   Cpu_brand_Other Intel Processor  Gpu_brand_AMD  Gpu_brand_Intel  \\\n",
       "0                              0.0            0.0              0.0   \n",
       "1                              1.0            0.0              1.0   \n",
       "2                              0.0            0.0              1.0   \n",
       "3                              0.0            1.0              0.0   \n",
       "4                              0.0            0.0              0.0   \n",
       "\n",
       "   Gpu_brand_Nvidia  Os_Mac  Os_Others  Os_Windows  \n",
       "0               1.0     0.0        0.0         1.0  \n",
       "1               0.0     0.0        1.0         0.0  \n",
       "2               0.0     0.0        0.0         1.0  \n",
       "3               0.0     0.0        0.0         1.0  \n",
       "4               1.0     0.0        0.0         1.0  \n",
       "\n",
       "[5 rows x 43 columns]"
      ]
     },
     "execution_count": 43,
     "metadata": {},
     "output_type": "execute_result"
    }
   ],
   "source": [
    "x_train.head()"
   ]
  },
  {
   "cell_type": "markdown",
   "metadata": {},
   "source": [
    "# Scaling"
   ]
  },
  {
   "cell_type": "code",
   "execution_count": 18,
   "metadata": {},
   "outputs": [],
   "source": [
    "num_cols.remove('Price')"
   ]
  },
  {
   "cell_type": "code",
   "execution_count": 19,
   "metadata": {},
   "outputs": [],
   "source": [
    "scaler = StandardScaler()\n",
    "x_train[num_cols] = scaler.fit_transform(x_train[num_cols])\n",
    "x_val[num_cols] = scaler.transform(x_val[num_cols])\n",
    "x_test[num_cols] = scaler.transform(x_test[num_cols])"
   ]
  },
  {
   "cell_type": "code",
   "execution_count": 20,
   "metadata": {},
   "outputs": [],
   "source": [
    "scaler_y = StandardScaler()\n",
    "y_train = scaler_y.fit_transform(pd.DataFrame(y_train))\n",
    "y_val = scaler_y.transform(pd.DataFrame(y_val))\n",
    "y_test = scaler_y.transform(pd.DataFrame(y_test))"
   ]
  },
  {
   "cell_type": "markdown",
   "metadata": {},
   "source": [
    "# Building the Tensor Dataset"
   ]
  },
  {
   "cell_type": "code",
   "execution_count": 21,
   "metadata": {},
   "outputs": [],
   "source": [
    "train_ds = tf.data.Dataset.from_tensor_slices((x_train,y_train)).batch(32).shuffle(10)\n",
    "test_ds = tf.data.Dataset.from_tensor_slices((x_test,y_test)).batch(32)\n",
    "val_ds = tf.data.Dataset.from_tensor_slices((x_val,y_val)).batch(32)"
   ]
  },
  {
   "cell_type": "code",
   "execution_count": 22,
   "metadata": {},
   "outputs": [
    {
     "data": {
      "text/plain": [
       "<ShuffleDataset element_spec=(TensorSpec(shape=(None, 44), dtype=tf.float64, name=None), TensorSpec(shape=(None, 1), dtype=tf.float64, name=None))>"
      ]
     },
     "execution_count": 22,
     "metadata": {},
     "output_type": "execute_result"
    }
   ],
   "source": [
    "train_ds"
   ]
  },
  {
   "cell_type": "code",
   "execution_count": 59,
   "metadata": {},
   "outputs": [
    {
     "name": "stdout",
     "output_type": "stream",
     "text": [
      "Model: \"sequential\"\n",
      "_________________________________________________________________\n",
      " Layer (type)                Output Shape              Param #   \n",
      "=================================================================\n",
      " dense (Dense)               (None, 12)                528       \n",
      "                                                                 \n",
      " dense_1 (Dense)             (None, 4)                 52        \n",
      "                                                                 \n",
      " dense_2 (Dense)             (None, 1)                 5         \n",
      "                                                                 \n",
      "=================================================================\n",
      "Total params: 585\n",
      "Trainable params: 585\n",
      "Non-trainable params: 0\n",
      "_________________________________________________________________\n"
     ]
    }
   ],
   "source": [
    "model = tf.keras.Sequential(\n",
    "    [\n",
    "        Dense(12, activation=\"relu\",input_shape=(43,)),\n",
    "        Dense(4, activation=\"relu\"),\n",
    "        Dense(1, activation='linear'),\n",
    "    ]\n",
    ")\n",
    "model.summary()"
   ]
  },
  {
   "cell_type": "code",
   "execution_count": 61,
   "metadata": {},
   "outputs": [
    {
     "data": {
      "text/plain": [
       "array([[ 9.913289 ],\n",
       "       [10.805063 ],\n",
       "       [10.755054 ],\n",
       "       [10.459192 ],\n",
       "       [10.603728 ],\n",
       "       [10.827182 ],\n",
       "       [10.88941  ],\n",
       "       [10.827182 ],\n",
       "       [10.565561 ],\n",
       "       [10.563862 ],\n",
       "       [10.74369  ],\n",
       "       [10.856935 ],\n",
       "       [10.402219 ],\n",
       "       [10.980166 ],\n",
       "       [10.727243 ],\n",
       "       [11.153038 ],\n",
       "       [11.388144 ],\n",
       "       [10.7060375],\n",
       "       [10.827182 ],\n",
       "       [10.819183 ],\n",
       "       [10.827182 ],\n",
       "       [10.561337 ],\n",
       "       [10.773006 ],\n",
       "       [10.413991 ],\n",
       "       [10.462869 ],\n",
       "       [10.78082  ],\n",
       "       [10.827182 ],\n",
       "       [10.577666 ],\n",
       "       [10.613946 ],\n",
       "       [10.923259 ],\n",
       "       [10.330684 ],\n",
       "       [ 9.98283  ],\n",
       "       [10.601959 ],\n",
       "       [10.731356 ],\n",
       "       [11.266949 ],\n",
       "       [10.827182 ],\n",
       "       [10.85227  ],\n",
       "       [10.827182 ],\n",
       "       [10.623312 ],\n",
       "       [10.317851 ],\n",
       "       [10.662989 ],\n",
       "       [10.836538 ],\n",
       "       [10.716259 ],\n",
       "       [10.732316 ],\n",
       "       [10.827182 ],\n",
       "       [10.426777 ],\n",
       "       [10.521456 ],\n",
       "       [10.664421 ],\n",
       "       [10.870634 ],\n",
       "       [10.068796 ],\n",
       "       [10.827182 ],\n",
       "       [10.421559 ],\n",
       "       [10.485329 ],\n",
       "       [10.353134 ],\n",
       "       [10.827182 ],\n",
       "       [10.480149 ],\n",
       "       [10.827182 ],\n",
       "       [10.850393 ],\n",
       "       [10.827182 ],\n",
       "       [10.827182 ],\n",
       "       [10.515864 ],\n",
       "       [10.969702 ],\n",
       "       [10.699275 ],\n",
       "       [10.833354 ],\n",
       "       [10.891474 ],\n",
       "       [10.602868 ],\n",
       "       [10.833874 ],\n",
       "       [10.812181 ],\n",
       "       [10.308287 ],\n",
       "       [10.867296 ],\n",
       "       [10.532527 ],\n",
       "       [10.521499 ],\n",
       "       [10.434539 ],\n",
       "       [10.315471 ],\n",
       "       [10.836316 ],\n",
       "       [10.532527 ],\n",
       "       [10.827182 ],\n",
       "       [11.28919  ],\n",
       "       [10.876459 ],\n",
       "       [10.827182 ],\n",
       "       [10.326741 ],\n",
       "       [10.827182 ],\n",
       "       [10.406262 ],\n",
       "       [10.140103 ],\n",
       "       [10.754199 ],\n",
       "       [10.908262 ],\n",
       "       [10.833116 ],\n",
       "       [10.569911 ],\n",
       "       [10.827182 ],\n",
       "       [10.828526 ],\n",
       "       [10.277458 ],\n",
       "       [10.827182 ],\n",
       "       [10.667337 ],\n",
       "       [10.831207 ],\n",
       "       [10.902464 ],\n",
       "       [10.677847 ],\n",
       "       [10.622526 ],\n",
       "       [10.720642 ],\n",
       "       [11.0928135],\n",
       "       [10.445776 ],\n",
       "       [10.827182 ],\n",
       "       [10.744818 ],\n",
       "       [10.409122 ],\n",
       "       [10.9390135],\n",
       "       [10.81471  ],\n",
       "       [10.827182 ],\n",
       "       [10.570989 ],\n",
       "       [10.631148 ],\n",
       "       [10.788571 ],\n",
       "       [10.827182 ],\n",
       "       [10.31022  ],\n",
       "       [10.723244 ],\n",
       "       [10.148565 ],\n",
       "       [10.83214  ],\n",
       "       [10.547568 ],\n",
       "       [10.8874855],\n",
       "       [10.827182 ],\n",
       "       [10.184954 ],\n",
       "       [10.837338 ],\n",
       "       [10.813801 ],\n",
       "       [10.827182 ],\n",
       "       [10.571992 ],\n",
       "       [10.823341 ],\n",
       "       [10.633055 ],\n",
       "       [ 9.7636385],\n",
       "       [10.827182 ],\n",
       "       [10.821998 ],\n",
       "       [10.658119 ],\n",
       "       [10.060976 ],\n",
       "       [10.885347 ],\n",
       "       [10.827182 ],\n",
       "       [10.513185 ],\n",
       "       [10.697166 ],\n",
       "       [10.830734 ],\n",
       "       [10.949851 ],\n",
       "       [10.239202 ],\n",
       "       [10.876188 ],\n",
       "       [10.386909 ],\n",
       "       [11.097366 ],\n",
       "       [10.850844 ],\n",
       "       [10.75036  ],\n",
       "       [10.462869 ],\n",
       "       [11.65321  ],\n",
       "       [10.601815 ],\n",
       "       [10.175133 ],\n",
       "       [10.589693 ],\n",
       "       [10.858526 ],\n",
       "       [10.379681 ],\n",
       "       [10.79142  ],\n",
       "       [10.865366 ],\n",
       "       [10.958904 ],\n",
       "       [11.379647 ],\n",
       "       [10.859255 ],\n",
       "       [10.827182 ],\n",
       "       [10.797867 ],\n",
       "       [10.827182 ],\n",
       "       [10.485329 ],\n",
       "       [10.398067 ],\n",
       "       [10.886169 ],\n",
       "       [10.827182 ],\n",
       "       [10.79142  ],\n",
       "       [10.297978 ],\n",
       "       [10.341431 ],\n",
       "       [10.6108055],\n",
       "       [10.870352 ],\n",
       "       [10.777189 ],\n",
       "       [10.601815 ],\n",
       "       [11.062665 ],\n",
       "       [10.827182 ],\n",
       "       [10.645525 ],\n",
       "       [10.858444 ],\n",
       "       [10.827182 ],\n",
       "       [10.262325 ],\n",
       "       [10.923736 ],\n",
       "       [10.827182 ],\n",
       "       [10.501078 ],\n",
       "       [10.831346 ],\n",
       "       [10.826241 ],\n",
       "       [10.477517 ],\n",
       "       [11.179005 ],\n",
       "       [10.949851 ],\n",
       "       [10.403417 ],\n",
       "       [10.348854 ],\n",
       "       [11.08565  ],\n",
       "       [10.827182 ],\n",
       "       [10.384289 ],\n",
       "       [10.83564  ],\n",
       "       [10.3536005],\n",
       "       [10.739373 ],\n",
       "       [10.827182 ],\n",
       "       [10.412439 ],\n",
       "       [10.414583 ],\n",
       "       [10.54134  ],\n",
       "       [10.844311 ],\n",
       "       [10.862771 ],\n",
       "       [10.169068 ],\n",
       "       [10.571116 ],\n",
       "       [10.881281 ],\n",
       "       [10.864767 ],\n",
       "       [10.822646 ],\n",
       "       [10.670648 ],\n",
       "       [10.827182 ],\n",
       "       [10.824612 ],\n",
       "       [10.846136 ],\n",
       "       [10.891807 ],\n",
       "       [10.624608 ],\n",
       "       [10.344075 ],\n",
       "       [10.702059 ],\n",
       "       [10.034201 ],\n",
       "       [10.862954 ],\n",
       "       [10.495573 ],\n",
       "       [10.371059 ],\n",
       "       [ 9.548796 ],\n",
       "       [10.827182 ],\n",
       "       [10.4727   ],\n",
       "       [10.827182 ],\n",
       "       [10.465228 ],\n",
       "       [10.612094 ],\n",
       "       [10.428478 ],\n",
       "       [10.874498 ],\n",
       "       [10.572987 ],\n",
       "       [10.555211 ],\n",
       "       [10.792416 ],\n",
       "       [10.704455 ],\n",
       "       [11.154644 ],\n",
       "       [10.3216505],\n",
       "       [10.738197 ],\n",
       "       [10.498507 ],\n",
       "       [10.827182 ],\n",
       "       [10.67521  ],\n",
       "       [10.827182 ],\n",
       "       [10.827182 ],\n",
       "       [10.908087 ],\n",
       "       [10.477713 ],\n",
       "       [10.476543 ],\n",
       "       [10.866908 ],\n",
       "       [10.577102 ],\n",
       "       [10.550477 ],\n",
       "       [10.8760195],\n",
       "       [10.827182 ],\n",
       "       [10.348041 ],\n",
       "       [10.59157  ],\n",
       "       [10.459332 ],\n",
       "       [10.827182 ],\n",
       "       [10.832609 ],\n",
       "       [10.257601 ],\n",
       "       [10.277231 ],\n",
       "       [10.847798 ],\n",
       "       [10.261462 ],\n",
       "       [10.543434 ],\n",
       "       [ 9.997926 ],\n",
       "       [10.745519 ],\n",
       "       [10.14431  ],\n",
       "       [10.634106 ],\n",
       "       [10.598365 ]], dtype=float32)"
      ]
     },
     "execution_count": 61,
     "metadata": {},
     "output_type": "execute_result"
    }
   ],
   "source": [
    "y_pred_val = model.predict(val_ds)\n",
    "scaler_y.inverse_transform(y_pred_val)"
   ]
  },
  {
   "cell_type": "markdown",
   "metadata": {},
   "source": [
    "### Functional API"
   ]
  },
  {
   "cell_type": "code",
   "execution_count": 38,
   "metadata": {},
   "outputs": [
    {
     "data": {
      "text/plain": [
       "<ShuffleDataset element_spec=(TensorSpec(shape=(None, 44), dtype=tf.float64, name=None), TensorSpec(shape=(None, 1), dtype=tf.float64, name=None))>"
      ]
     },
     "execution_count": 38,
     "metadata": {},
     "output_type": "execute_result"
    }
   ],
   "source": [
    "train_ds"
   ]
  },
  {
   "cell_type": "code",
   "execution_count": 23,
   "metadata": {},
   "outputs": [
    {
     "name": "stdout",
     "output_type": "stream",
     "text": [
      "Model: \"model\"\n",
      "__________________________________________________________________________________________________\n",
      " Layer (type)                   Output Shape         Param #     Connected to                     \n",
      "==================================================================================================\n",
      " input_1 (InputLayer)           [(None, 44)]         0           []                               \n",
      "                                                                                                  \n",
      " dense (Dense)                  (None, 64)           2880        ['input_1[0][0]']                \n",
      "                                                                                                  \n",
      " dense_2 (Dense)                (None, 64)           4160        ['dense[0][0]']                  \n",
      "                                                                                                  \n",
      " dense_1 (Dense)                (None, 32)           2080        ['dense[0][0]']                  \n",
      "                                                                                                  \n",
      " concatenate (Concatenate)      (None, 96)           0           ['dense_2[0][0]',                \n",
      "                                                                  'dense_1[0][0]']                \n",
      "                                                                                                  \n",
      " dense_3 (Dense)                (None, 1)            97          ['concatenate[0][0]']            \n",
      "                                                                                                  \n",
      "==================================================================================================\n",
      "Total params: 9,217\n",
      "Trainable params: 9,217\n",
      "Non-trainable params: 0\n",
      "__________________________________________________________________________________________________\n"
     ]
    }
   ],
   "source": [
    "inputs = tf.keras.Input(shape=(44,))\n",
    "dense1 = Dense(64, activation=\"relu\")(inputs)\n",
    "dense2 = Dense(32,activation=tf.keras.layers.LeakyReLU(alpha=0.2),kernel_initializer=tf.keras.initializers.GlorotUniform(),\n",
    "               bias_initializer=tf.keras.initializers.GlorotUniform())(dense1)\n",
    "dense3 = Dense(64, activation=\"relu\")(dense1)\n",
    "cat_layer = tf.keras.layers.Concatenate(axis=1)([dense3,dense2])\n",
    "out = Dense(1,activation='linear')(cat_layer)\n",
    "\n",
    "model = Model(inputs=inputs, outputs=out)\n",
    "model.summary()"
   ]
  },
  {
   "cell_type": "code",
   "execution_count": 33,
   "metadata": {},
   "outputs": [
    {
     "data": {
      "text/plain": [
       "[array([[0., 0., 0., ..., 0., 0., 0.],\n",
       "        [0., 0., 0., ..., 0., 0., 0.],\n",
       "        [0., 0., 0., ..., 0., 0., 0.],\n",
       "        ...,\n",
       "        [0., 0., 0., ..., 0., 0., 0.],\n",
       "        [0., 0., 0., ..., 0., 0., 0.],\n",
       "        [0., 0., 0., ..., 0., 0., 0.]], dtype=float32),\n",
       " array([0., 0., 0., 0., 0., 0., 0., 0., 0., 0., 0., 0., 0., 0., 0., 0., 0.,\n",
       "        0., 0., 0., 0., 0., 0., 0., 0., 0., 0., 0., 0., 0., 0., 0.],\n",
       "       dtype=float32)]"
      ]
     },
     "execution_count": 33,
     "metadata": {},
     "output_type": "execute_result"
    }
   ],
   "source": [
    "model.layers[2].get_weights()"
   ]
  },
  {
   "cell_type": "code",
   "execution_count": 80,
   "metadata": {},
   "outputs": [
    {
     "data": {
      "text/plain": [
       "[<tf.Variable 'dense_7/kernel:0' shape=(43, 64) dtype=float32, numpy=\n",
       " array([[-0.15537392, -0.2365575 , -0.17868489, ...,  0.05744761,\n",
       "         -0.17247261,  0.09213126],\n",
       "        [ 0.18967444,  0.09893093,  0.01990408, ...,  0.13005134,\n",
       "         -0.16380289,  0.19675353],\n",
       "        [ 0.14054444,  0.15523425,  0.10590437, ..., -0.14681163,\n",
       "         -0.19454417,  0.21154997],\n",
       "        ...,\n",
       "        [ 0.10928747, -0.17891592, -0.17054373, ..., -0.03696957,\n",
       "          0.22784549,  0.15980437],\n",
       "        [-0.08549589, -0.18239754, -0.1757476 , ..., -0.10728408,\n",
       "          0.13997534, -0.10709167],\n",
       "        [-0.08519739, -0.22695686, -0.10052337, ..., -0.12943658,\n",
       "          0.0438402 , -0.02851886]], dtype=float32)>,\n",
       " <tf.Variable 'dense_7/bias:0' shape=(64,) dtype=float32, numpy=\n",
       " array([0., 0., 0., 0., 0., 0., 0., 0., 0., 0., 0., 0., 0., 0., 0., 0., 0.,\n",
       "        0., 0., 0., 0., 0., 0., 0., 0., 0., 0., 0., 0., 0., 0., 0., 0., 0.,\n",
       "        0., 0., 0., 0., 0., 0., 0., 0., 0., 0., 0., 0., 0., 0., 0., 0., 0.,\n",
       "        0., 0., 0., 0., 0., 0., 0., 0., 0., 0., 0., 0., 0.], dtype=float32)>]"
      ]
     },
     "execution_count": 80,
     "metadata": {},
     "output_type": "execute_result"
    }
   ],
   "source": [
    "model.get_layer('dense_7').weights"
   ]
  },
  {
   "cell_type": "code",
   "execution_count": 28,
   "metadata": {},
   "outputs": [
    {
     "name": "stdout",
     "output_type": "stream",
     "text": [
      "You must install pydot (`pip install pydot`) and install graphviz (see instructions at https://graphviz.gitlab.io/download/) for plot_model/model_to_dot to work.\n"
     ]
    }
   ],
   "source": [
    "plot_model(model,show_shapes=True)"
   ]
  },
  {
   "cell_type": "markdown",
   "metadata": {},
   "source": [
    "# Training The Model"
   ]
  },
  {
   "cell_type": "code",
   "execution_count": 29,
   "metadata": {},
   "outputs": [],
   "source": [
    "model.compile(optimizer=tf.keras.optimizers.Adam(learning_rate=1e-3)\n",
    "              ,loss=tf.keras.losses.MeanSquaredError()\n",
    "              ,metrics=[tf.keras.metrics.MeanAbsoluteError(),tf.keras.metrics.RootMeanSquaredError()])"
   ]
  },
  {
   "cell_type": "code",
   "execution_count": 30,
   "metadata": {},
   "outputs": [
    {
     "name": "stdout",
     "output_type": "stream",
     "text": [
      "Epoch 1/50\n",
      "24/24 [==============================] - 3s 14ms/step - loss: 0.4223 - mean_absolute_error: 0.5030 - root_mean_squared_error: 0.6498 - val_loss: 0.2876 - val_mean_absolute_error: 0.4168 - val_root_mean_squared_error: 0.5363\n",
      "Epoch 2/50\n",
      "24/24 [==============================] - 0s 8ms/step - loss: 0.2181 - mean_absolute_error: 0.3605 - root_mean_squared_error: 0.4670 - val_loss: 0.2352 - val_mean_absolute_error: 0.3712 - val_root_mean_squared_error: 0.4849\n",
      "Epoch 3/50\n",
      "24/24 [==============================] - 0s 12ms/step - loss: 0.1685 - mean_absolute_error: 0.3185 - root_mean_squared_error: 0.4105 - val_loss: 0.2021 - val_mean_absolute_error: 0.3393 - val_root_mean_squared_error: 0.4496\n",
      "Epoch 4/50\n",
      "24/24 [==============================] - 0s 9ms/step - loss: 0.1595 - mean_absolute_error: 0.3120 - root_mean_squared_error: 0.3993 - val_loss: 0.2099 - val_mean_absolute_error: 0.3458 - val_root_mean_squared_error: 0.4582\n",
      "Epoch 5/50\n",
      "24/24 [==============================] - 0s 9ms/step - loss: 0.1497 - mean_absolute_error: 0.3001 - root_mean_squared_error: 0.3870 - val_loss: 0.2185 - val_mean_absolute_error: 0.3507 - val_root_mean_squared_error: 0.4674\n",
      "Epoch 6/50\n",
      "24/24 [==============================] - 0s 9ms/step - loss: 0.1347 - mean_absolute_error: 0.2821 - root_mean_squared_error: 0.3670 - val_loss: 0.1828 - val_mean_absolute_error: 0.3244 - val_root_mean_squared_error: 0.4275\n",
      "Epoch 7/50\n",
      "24/24 [==============================] - 0s 8ms/step - loss: 0.1274 - mean_absolute_error: 0.2787 - root_mean_squared_error: 0.3570 - val_loss: 0.1787 - val_mean_absolute_error: 0.3179 - val_root_mean_squared_error: 0.4227\n",
      "Epoch 8/50\n",
      "24/24 [==============================] - 0s 8ms/step - loss: 0.1219 - mean_absolute_error: 0.2679 - root_mean_squared_error: 0.3491 - val_loss: 0.1691 - val_mean_absolute_error: 0.3091 - val_root_mean_squared_error: 0.4112\n",
      "Epoch 9/50\n",
      "24/24 [==============================] - 0s 8ms/step - loss: 0.1105 - mean_absolute_error: 0.2548 - root_mean_squared_error: 0.3324 - val_loss: 0.1696 - val_mean_absolute_error: 0.3097 - val_root_mean_squared_error: 0.4118\n",
      "Epoch 10/50\n",
      "24/24 [==============================] - 0s 7ms/step - loss: 0.1059 - mean_absolute_error: 0.2488 - root_mean_squared_error: 0.3254 - val_loss: 0.1664 - val_mean_absolute_error: 0.3082 - val_root_mean_squared_error: 0.4079\n",
      "Epoch 11/50\n",
      "24/24 [==============================] - 0s 7ms/step - loss: 0.1063 - mean_absolute_error: 0.2486 - root_mean_squared_error: 0.3260 - val_loss: 0.1642 - val_mean_absolute_error: 0.3078 - val_root_mean_squared_error: 0.4052\n",
      "Epoch 12/50\n",
      "24/24 [==============================] - 0s 8ms/step - loss: 0.1022 - mean_absolute_error: 0.2456 - root_mean_squared_error: 0.3196 - val_loss: 0.1704 - val_mean_absolute_error: 0.3080 - val_root_mean_squared_error: 0.4127\n",
      "Epoch 13/50\n",
      "24/24 [==============================] - 0s 7ms/step - loss: 0.1023 - mean_absolute_error: 0.2451 - root_mean_squared_error: 0.3198 - val_loss: 0.1717 - val_mean_absolute_error: 0.3128 - val_root_mean_squared_error: 0.4144\n",
      "Epoch 14/50\n",
      "24/24 [==============================] - 0s 7ms/step - loss: 0.1002 - mean_absolute_error: 0.2439 - root_mean_squared_error: 0.3166 - val_loss: 0.1712 - val_mean_absolute_error: 0.3145 - val_root_mean_squared_error: 0.4137\n",
      "Epoch 15/50\n",
      "24/24 [==============================] - 0s 7ms/step - loss: 0.0929 - mean_absolute_error: 0.2352 - root_mean_squared_error: 0.3047 - val_loss: 0.1654 - val_mean_absolute_error: 0.3075 - val_root_mean_squared_error: 0.4067\n",
      "Epoch 16/50\n",
      "24/24 [==============================] - 0s 10ms/step - loss: 0.0883 - mean_absolute_error: 0.2264 - root_mean_squared_error: 0.2971 - val_loss: 0.1610 - val_mean_absolute_error: 0.3024 - val_root_mean_squared_error: 0.4013\n",
      "Epoch 17/50\n",
      "24/24 [==============================] - 0s 7ms/step - loss: 0.0864 - mean_absolute_error: 0.2246 - root_mean_squared_error: 0.2939 - val_loss: 0.1643 - val_mean_absolute_error: 0.3036 - val_root_mean_squared_error: 0.4053\n",
      "Epoch 18/50\n",
      "24/24 [==============================] - 0s 7ms/step - loss: 0.0835 - mean_absolute_error: 0.2199 - root_mean_squared_error: 0.2890 - val_loss: 0.1580 - val_mean_absolute_error: 0.2968 - val_root_mean_squared_error: 0.3975\n",
      "Epoch 19/50\n",
      "24/24 [==============================] - 0s 8ms/step - loss: 0.0827 - mean_absolute_error: 0.2181 - root_mean_squared_error: 0.2876 - val_loss: 0.1536 - val_mean_absolute_error: 0.2927 - val_root_mean_squared_error: 0.3920\n",
      "Epoch 20/50\n",
      "24/24 [==============================] - 0s 7ms/step - loss: 0.0854 - mean_absolute_error: 0.2238 - root_mean_squared_error: 0.2923 - val_loss: 0.1596 - val_mean_absolute_error: 0.2995 - val_root_mean_squared_error: 0.3995\n",
      "Epoch 21/50\n",
      "24/24 [==============================] - 0s 8ms/step - loss: 0.0802 - mean_absolute_error: 0.2135 - root_mean_squared_error: 0.2831 - val_loss: 0.1612 - val_mean_absolute_error: 0.3055 - val_root_mean_squared_error: 0.4015\n",
      "Epoch 22/50\n",
      "24/24 [==============================] - 0s 8ms/step - loss: 0.0792 - mean_absolute_error: 0.2119 - root_mean_squared_error: 0.2814 - val_loss: 0.1547 - val_mean_absolute_error: 0.2944 - val_root_mean_squared_error: 0.3934\n",
      "Epoch 23/50\n",
      "24/24 [==============================] - 0s 8ms/step - loss: 0.0736 - mean_absolute_error: 0.2075 - root_mean_squared_error: 0.2713 - val_loss: 0.1602 - val_mean_absolute_error: 0.3003 - val_root_mean_squared_error: 0.4003\n",
      "Epoch 24/50\n",
      "24/24 [==============================] - 0s 8ms/step - loss: 0.0728 - mean_absolute_error: 0.2058 - root_mean_squared_error: 0.2699 - val_loss: 0.1571 - val_mean_absolute_error: 0.2974 - val_root_mean_squared_error: 0.3964\n",
      "Epoch 25/50\n",
      "24/24 [==============================] - 0s 9ms/step - loss: 0.0815 - mean_absolute_error: 0.2169 - root_mean_squared_error: 0.2855 - val_loss: 0.1576 - val_mean_absolute_error: 0.3038 - val_root_mean_squared_error: 0.3970\n",
      "Epoch 26/50\n",
      "24/24 [==============================] - 0s 8ms/step - loss: 0.0718 - mean_absolute_error: 0.2024 - root_mean_squared_error: 0.2680 - val_loss: 0.1601 - val_mean_absolute_error: 0.3007 - val_root_mean_squared_error: 0.4002\n",
      "Epoch 27/50\n",
      "24/24 [==============================] - 0s 8ms/step - loss: 0.0750 - mean_absolute_error: 0.2052 - root_mean_squared_error: 0.2739 - val_loss: 0.1750 - val_mean_absolute_error: 0.3258 - val_root_mean_squared_error: 0.4184\n",
      "Epoch 28/50\n",
      "24/24 [==============================] - 0s 8ms/step - loss: 0.0759 - mean_absolute_error: 0.2116 - root_mean_squared_error: 0.2756 - val_loss: 0.1530 - val_mean_absolute_error: 0.2942 - val_root_mean_squared_error: 0.3912\n",
      "Epoch 29/50\n",
      "24/24 [==============================] - 0s 7ms/step - loss: 0.0650 - mean_absolute_error: 0.1915 - root_mean_squared_error: 0.2549 - val_loss: 0.1570 - val_mean_absolute_error: 0.3012 - val_root_mean_squared_error: 0.3963\n",
      "Epoch 30/50\n",
      "24/24 [==============================] - 0s 8ms/step - loss: 0.0682 - mean_absolute_error: 0.1984 - root_mean_squared_error: 0.2611 - val_loss: 0.1755 - val_mean_absolute_error: 0.3210 - val_root_mean_squared_error: 0.4190\n",
      "Epoch 31/50\n",
      "24/24 [==============================] - 0s 7ms/step - loss: 0.0684 - mean_absolute_error: 0.1977 - root_mean_squared_error: 0.2616 - val_loss: 0.1562 - val_mean_absolute_error: 0.3038 - val_root_mean_squared_error: 0.3952\n",
      "Epoch 32/50\n",
      "24/24 [==============================] - 0s 8ms/step - loss: 0.0631 - mean_absolute_error: 0.1875 - root_mean_squared_error: 0.2512 - val_loss: 0.1538 - val_mean_absolute_error: 0.2976 - val_root_mean_squared_error: 0.3922\n",
      "Epoch 33/50\n",
      "24/24 [==============================] - 0s 8ms/step - loss: 0.0633 - mean_absolute_error: 0.1886 - root_mean_squared_error: 0.2516 - val_loss: 0.1568 - val_mean_absolute_error: 0.2976 - val_root_mean_squared_error: 0.3960\n",
      "Epoch 34/50\n",
      "24/24 [==============================] - 0s 7ms/step - loss: 0.0609 - mean_absolute_error: 0.1841 - root_mean_squared_error: 0.2469 - val_loss: 0.1543 - val_mean_absolute_error: 0.2941 - val_root_mean_squared_error: 0.3928\n",
      "Epoch 35/50\n",
      "24/24 [==============================] - 0s 8ms/step - loss: 0.0612 - mean_absolute_error: 0.1866 - root_mean_squared_error: 0.2474 - val_loss: 0.1678 - val_mean_absolute_error: 0.3074 - val_root_mean_squared_error: 0.4096\n",
      "Epoch 36/50\n",
      "24/24 [==============================] - 0s 7ms/step - loss: 0.0635 - mean_absolute_error: 0.1875 - root_mean_squared_error: 0.2520 - val_loss: 0.1550 - val_mean_absolute_error: 0.2988 - val_root_mean_squared_error: 0.3938\n",
      "Epoch 37/50\n",
      "24/24 [==============================] - 0s 7ms/step - loss: 0.0578 - mean_absolute_error: 0.1795 - root_mean_squared_error: 0.2405 - val_loss: 0.1572 - val_mean_absolute_error: 0.2966 - val_root_mean_squared_error: 0.3964\n",
      "Epoch 38/50\n",
      "24/24 [==============================] - 0s 7ms/step - loss: 0.0580 - mean_absolute_error: 0.1782 - root_mean_squared_error: 0.2409 - val_loss: 0.1531 - val_mean_absolute_error: 0.2970 - val_root_mean_squared_error: 0.3913\n",
      "Epoch 39/50\n",
      "24/24 [==============================] - 0s 8ms/step - loss: 0.0571 - mean_absolute_error: 0.1747 - root_mean_squared_error: 0.2390 - val_loss: 0.1531 - val_mean_absolute_error: 0.2971 - val_root_mean_squared_error: 0.3913\n",
      "Epoch 40/50\n",
      "24/24 [==============================] - 0s 7ms/step - loss: 0.0571 - mean_absolute_error: 0.1778 - root_mean_squared_error: 0.2389 - val_loss: 0.1674 - val_mean_absolute_error: 0.3081 - val_root_mean_squared_error: 0.4092\n",
      "Epoch 41/50\n",
      "24/24 [==============================] - 0s 9ms/step - loss: 0.0607 - mean_absolute_error: 0.1841 - root_mean_squared_error: 0.2465 - val_loss: 0.1596 - val_mean_absolute_error: 0.3122 - val_root_mean_squared_error: 0.3996\n",
      "Epoch 42/50\n",
      "24/24 [==============================] - 0s 8ms/step - loss: 0.0613 - mean_absolute_error: 0.1858 - root_mean_squared_error: 0.2476 - val_loss: 0.1520 - val_mean_absolute_error: 0.3002 - val_root_mean_squared_error: 0.3899\n",
      "Epoch 43/50\n",
      "24/24 [==============================] - 0s 8ms/step - loss: 0.0610 - mean_absolute_error: 0.1847 - root_mean_squared_error: 0.2469 - val_loss: 0.1585 - val_mean_absolute_error: 0.2996 - val_root_mean_squared_error: 0.3981\n",
      "Epoch 44/50\n",
      "24/24 [==============================] - 0s 11ms/step - loss: 0.0531 - mean_absolute_error: 0.1711 - root_mean_squared_error: 0.2304 - val_loss: 0.1578 - val_mean_absolute_error: 0.2986 - val_root_mean_squared_error: 0.3973\n",
      "Epoch 45/50\n",
      "24/24 [==============================] - 0s 8ms/step - loss: 0.0565 - mean_absolute_error: 0.1763 - root_mean_squared_error: 0.2378 - val_loss: 0.1587 - val_mean_absolute_error: 0.2991 - val_root_mean_squared_error: 0.3983\n",
      "Epoch 46/50\n",
      "24/24 [==============================] - 0s 8ms/step - loss: 0.0548 - mean_absolute_error: 0.1743 - root_mean_squared_error: 0.2341 - val_loss: 0.1596 - val_mean_absolute_error: 0.3107 - val_root_mean_squared_error: 0.3995\n",
      "Epoch 47/50\n",
      "24/24 [==============================] - 0s 8ms/step - loss: 0.0532 - mean_absolute_error: 0.1677 - root_mean_squared_error: 0.2305 - val_loss: 0.1660 - val_mean_absolute_error: 0.3141 - val_root_mean_squared_error: 0.4075\n",
      "Epoch 48/50\n",
      "24/24 [==============================] - 0s 8ms/step - loss: 0.0576 - mean_absolute_error: 0.1814 - root_mean_squared_error: 0.2401 - val_loss: 0.1638 - val_mean_absolute_error: 0.3042 - val_root_mean_squared_error: 0.4047\n",
      "Epoch 49/50\n",
      "24/24 [==============================] - 0s 7ms/step - loss: 0.0554 - mean_absolute_error: 0.1746 - root_mean_squared_error: 0.2353 - val_loss: 0.1646 - val_mean_absolute_error: 0.3051 - val_root_mean_squared_error: 0.4058\n",
      "Epoch 50/50\n",
      "24/24 [==============================] - 0s 7ms/step - loss: 0.0504 - mean_absolute_error: 0.1674 - root_mean_squared_error: 0.2245 - val_loss: 0.1588 - val_mean_absolute_error: 0.3029 - val_root_mean_squared_error: 0.3985\n"
     ]
    }
   ],
   "source": [
    "history = model.fit(train_ds,validation_data=val_ds,epochs = 50)"
   ]
  },
  {
   "cell_type": "code",
   "execution_count": 45,
   "metadata": {},
   "outputs": [
    {
     "data": {
      "image/png": "[encoded data removed]",
      "text/plain": [
       "<Figure size 432x288 with 1 Axes>"
      ]
     },
     "metadata": {
      "needs_background": "light"
     },
     "output_type": "display_data"
    }
   ],
   "source": [
    "train_loss = history.history['loss']\n",
    "val_loss = history.history['val_loss']\n",
    "plt.plot(train_loss,label=\"Train Loss\")\n",
    "plt.plot(val_loss,label='Val Loss')\n",
    "plt.xlabel(\"Epoch\")\n",
    "plt.ylabel(\"Loss\")\n",
    "plt.legend()\n",
    "plt.show()"
   ]
  },
  {
   "cell_type": "code",
   "execution_count": 50,
   "metadata": {},
   "outputs": [
    {
     "data": {
      "image/png": "[encoded data removed]",
      "text/plain": [
       "<Figure size 432x288 with 1 Axes>"
      ]
     },
     "metadata": {
      "needs_background": "light"
     },
     "output_type": "display_data"
    }
   ],
   "source": [
    "train_loss = history.history['loss']\n",
    "val_loss = history.history['val_loss']\n",
    "plt.plot(train_loss,label=\"Train Loss\")\n",
    "plt.plot(val_loss,label='Val Loss')\n",
    "plt.xlabel(\"Epoch\")\n",
    "plt.ylabel(\"Loss\")\n",
    "plt.legend()\n",
    "plt.show()"
   ]
  },
  {
   "cell_type": "markdown",
   "metadata": {},
   "source": [
    "# Testing the Model"
   ]
  },
  {
   "cell_type": "code",
   "execution_count": 51,
   "metadata": {},
   "outputs": [
    {
     "name": "stdout",
     "output_type": "stream",
     "text": [
      "8/8 [==============================] - 0s 11ms/step - loss: 0.1761 - mean_absolute_error: 0.3038 - root_mean_squared_error: 0.4197\n"
     ]
    },
    {
     "data": {
      "text/plain": [
       "[0.17614656686782837, 0.3037506639957428, 0.41969817876815796]"
      ]
     },
     "execution_count": 51,
     "metadata": {},
     "output_type": "execute_result"
    }
   ],
   "source": [
    "model.evaluate(test_ds)"
   ]
  },
  {
   "cell_type": "code",
   "execution_count": 52,
   "metadata": {},
   "outputs": [],
   "source": [
    "model.save_weights('my_weights.h5')"
   ]
  },
  {
   "cell_type": "code",
   "execution_count": 53,
   "metadata": {},
   "outputs": [
    {
     "data": {
      "text/plain": [
       "array([[11.501047 ],\n",
       "       [11.715557 ],\n",
       "       [ 9.547777 ],\n",
       "       [11.360009 ],\n",
       "       [11.599024 ],\n",
       "       [ 9.882989 ],\n",
       "       [11.495926 ],\n",
       "       [11.396889 ],\n",
       "       [10.494368 ],\n",
       "       [11.974746 ],\n",
       "       [ 9.880668 ],\n",
       "       [10.536431 ],\n",
       "       [10.64443  ],\n",
       "       [10.978674 ],\n",
       "       [11.855524 ],\n",
       "       [10.595988 ],\n",
       "       [ 9.704764 ],\n",
       "       [11.142426 ],\n",
       "       [11.116932 ],\n",
       "       [11.199216 ],\n",
       "       [11.94705  ],\n",
       "       [10.476508 ],\n",
       "       [10.352137 ],\n",
       "       [11.158057 ],\n",
       "       [10.884831 ],\n",
       "       [11.55923  ],\n",
       "       [10.760356 ],\n",
       "       [10.873861 ],\n",
       "       [10.458692 ],\n",
       "       [11.687412 ],\n",
       "       [10.725478 ],\n",
       "       [10.546942 ],\n",
       "       [11.739106 ],\n",
       "       [10.866396 ],\n",
       "       [10.749381 ],\n",
       "       [ 9.486362 ],\n",
       "       [10.595599 ],\n",
       "       [11.164412 ],\n",
       "       [10.559087 ],\n",
       "       [10.931141 ],\n",
       "       [10.798099 ],\n",
       "       [10.901221 ],\n",
       "       [10.954712 ],\n",
       "       [11.945498 ],\n",
       "       [10.379394 ],\n",
       "       [11.634231 ],\n",
       "       [11.000677 ],\n",
       "       [10.767928 ],\n",
       "       [11.255314 ],\n",
       "       [11.274767 ],\n",
       "       [10.873482 ],\n",
       "       [ 9.812485 ],\n",
       "       [11.275949 ],\n",
       "       [12.147205 ],\n",
       "       [11.354454 ],\n",
       "       [10.975713 ],\n",
       "       [10.514563 ],\n",
       "       [10.828513 ],\n",
       "       [10.785783 ],\n",
       "       [ 9.741656 ],\n",
       "       [10.556927 ],\n",
       "       [10.74478  ],\n",
       "       [ 9.953701 ],\n",
       "       [11.138918 ],\n",
       "       [ 9.9358425],\n",
       "       [ 9.764756 ],\n",
       "       [11.407751 ],\n",
       "       [10.916752 ],\n",
       "       [10.925565 ],\n",
       "       [11.761612 ],\n",
       "       [ 9.988854 ],\n",
       "       [10.747571 ],\n",
       "       [11.307042 ],\n",
       "       [11.650635 ],\n",
       "       [11.097021 ],\n",
       "       [11.470725 ],\n",
       "       [11.122104 ],\n",
       "       [11.263767 ],\n",
       "       [10.254257 ],\n",
       "       [11.047687 ],\n",
       "       [11.289269 ],\n",
       "       [11.175899 ],\n",
       "       [10.124667 ],\n",
       "       [10.490538 ],\n",
       "       [10.178383 ],\n",
       "       [10.385068 ],\n",
       "       [10.164539 ],\n",
       "       [11.1249695],\n",
       "       [11.138742 ],\n",
       "       [10.760356 ],\n",
       "       [11.112093 ],\n",
       "       [11.600252 ],\n",
       "       [11.600808 ],\n",
       "       [10.745704 ],\n",
       "       [11.019918 ],\n",
       "       [10.736384 ],\n",
       "       [10.965436 ],\n",
       "       [10.602514 ],\n",
       "       [10.833695 ],\n",
       "       [10.988329 ],\n",
       "       [10.032578 ],\n",
       "       [ 9.971186 ],\n",
       "       [ 9.806762 ],\n",
       "       [10.780398 ],\n",
       "       [10.219799 ],\n",
       "       [ 9.943836 ],\n",
       "       [10.386056 ],\n",
       "       [10.191356 ],\n",
       "       [11.279554 ],\n",
       "       [10.793392 ],\n",
       "       [10.881405 ],\n",
       "       [10.9549   ],\n",
       "       [ 9.853663 ],\n",
       "       [10.736335 ],\n",
       "       [10.611833 ],\n",
       "       [12.8452635],\n",
       "       [10.97396  ],\n",
       "       [11.122391 ],\n",
       "       [10.934578 ],\n",
       "       [10.700181 ],\n",
       "       [10.976009 ],\n",
       "       [11.3385935],\n",
       "       [ 9.897427 ],\n",
       "       [11.236207 ],\n",
       "       [10.827381 ],\n",
       "       [11.288649 ],\n",
       "       [11.061143 ],\n",
       "       [ 9.985629 ],\n",
       "       [11.025869 ],\n",
       "       [11.188162 ],\n",
       "       [10.114434 ],\n",
       "       [10.56469  ],\n",
       "       [11.432853 ],\n",
       "       [ 9.783508 ],\n",
       "       [10.332124 ],\n",
       "       [ 9.86133  ],\n",
       "       [10.283057 ],\n",
       "       [11.327754 ],\n",
       "       [10.102048 ],\n",
       "       [11.091034 ],\n",
       "       [ 9.932432 ],\n",
       "       [10.959941 ],\n",
       "       [11.124855 ],\n",
       "       [11.583031 ],\n",
       "       [10.03196  ],\n",
       "       [10.847953 ],\n",
       "       [11.627479 ],\n",
       "       [11.676135 ],\n",
       "       [11.372825 ],\n",
       "       [10.743645 ],\n",
       "       [11.576353 ],\n",
       "       [10.781762 ],\n",
       "       [10.250545 ],\n",
       "       [10.457981 ],\n",
       "       [ 9.839892 ],\n",
       "       [10.6665945],\n",
       "       [11.521728 ],\n",
       "       [11.757914 ],\n",
       "       [10.54717  ],\n",
       "       [10.474434 ],\n",
       "       [10.082    ],\n",
       "       [10.867465 ],\n",
       "       [11.219501 ],\n",
       "       [11.5843   ],\n",
       "       [10.940183 ],\n",
       "       [11.509376 ],\n",
       "       [11.123547 ],\n",
       "       [11.333293 ],\n",
       "       [ 9.865138 ],\n",
       "       [ 9.588758 ],\n",
       "       [10.878092 ],\n",
       "       [10.433187 ],\n",
       "       [10.822728 ],\n",
       "       [10.953339 ],\n",
       "       [10.185037 ],\n",
       "       [11.095532 ],\n",
       "       [10.616305 ],\n",
       "       [10.821641 ],\n",
       "       [10.353041 ],\n",
       "       [11.960654 ],\n",
       "       [11.329334 ],\n",
       "       [11.038508 ],\n",
       "       [11.267833 ],\n",
       "       [11.274767 ],\n",
       "       [11.509922 ],\n",
       "       [11.087162 ],\n",
       "       [11.03296  ],\n",
       "       [11.145583 ],\n",
       "       [10.94942  ],\n",
       "       [ 9.624879 ],\n",
       "       [10.523722 ],\n",
       "       [10.136601 ],\n",
       "       [10.374499 ],\n",
       "       [10.611833 ],\n",
       "       [11.848902 ],\n",
       "       [11.752375 ],\n",
       "       [10.391237 ],\n",
       "       [10.884296 ],\n",
       "       [ 9.857102 ],\n",
       "       [10.941318 ],\n",
       "       [11.329334 ],\n",
       "       [10.716341 ],\n",
       "       [11.525444 ],\n",
       "       [11.345677 ],\n",
       "       [10.418355 ],\n",
       "       [10.310235 ],\n",
       "       [10.42434  ],\n",
       "       [10.584291 ],\n",
       "       [10.149506 ],\n",
       "       [10.868316 ],\n",
       "       [10.681729 ],\n",
       "       [11.164412 ],\n",
       "       [10.087287 ],\n",
       "       [10.191326 ],\n",
       "       [10.585623 ],\n",
       "       [ 9.968822 ],\n",
       "       [10.436041 ],\n",
       "       [10.318249 ],\n",
       "       [11.111194 ],\n",
       "       [10.723558 ],\n",
       "       [10.547497 ],\n",
       "       [10.659368 ],\n",
       "       [ 9.959346 ],\n",
       "       [ 9.877753 ],\n",
       "       [11.8557   ],\n",
       "       [11.271962 ],\n",
       "       [10.347874 ],\n",
       "       [10.681729 ],\n",
       "       [10.746469 ],\n",
       "       [11.506233 ],\n",
       "       [10.887258 ],\n",
       "       [10.976449 ],\n",
       "       [10.537761 ],\n",
       "       [11.526202 ],\n",
       "       [11.328454 ],\n",
       "       [11.157573 ],\n",
       "       [10.872289 ],\n",
       "       [10.9965725],\n",
       "       [11.164412 ],\n",
       "       [10.038491 ],\n",
       "       [11.526406 ],\n",
       "       [11.120174 ],\n",
       "       [10.402667 ],\n",
       "       [10.465163 ],\n",
       "       [10.148925 ],\n",
       "       [10.016423 ],\n",
       "       [ 9.927239 ],\n",
       "       [10.092328 ],\n",
       "       [11.375905 ],\n",
       "       [11.001781 ],\n",
       "       [10.3558035],\n",
       "       [10.449682 ],\n",
       "       [10.074678 ],\n",
       "       [10.991194 ],\n",
       "       [11.224368 ]], dtype=float32)"
      ]
     },
     "execution_count": 53,
     "metadata": {},
     "output_type": "execute_result"
    }
   ],
   "source": [
    "y_pred_val = model.predict(test_ds)\n",
    "scaler_y.inverse_transform(y_pred_val)"
   ]
  },
  {
   "cell_type": "code",
   "execution_count": 51,
   "metadata": {},
   "outputs": [],
   "source": [
    "def test_regression_model(test_ds,model,scaler = None):\n",
    "    y = []\n",
    "    y_preds = []\n",
    "    for inputs,labels in test_ds:\n",
    "        y_pred = model.predict(inputs)\n",
    "        if scaler:\n",
    "            labels = scaler_y.inverse_transform(labels)\n",
    "            y_pred = scaler_y.inverse_transform(y_pred)\n",
    "        try:\n",
    "            y.extend(labels.numpy())\n",
    "        except:\n",
    "            y.extend(labels)\n",
    "        y_preds.extend(y_pred)\n",
    "    return np.squeeze(y),np.squeeze(y_preds)"
   ]
  },
  {
   "cell_type": "code",
   "execution_count": 52,
   "metadata": {},
   "outputs": [],
   "source": [
    "res = test_regression_model(test_ds,model,scaler = scaler_y)"
   ]
  },
  {
   "cell_type": "code",
   "execution_count": 53,
   "metadata": {},
   "outputs": [
    {
     "data": {
      "text/plain": [
       "array([10.041936 ,  9.810069 , 11.858476 , 11.2119875, 10.734035 ,\n",
       "       11.6458   ,  9.920818 , 10.75022  , 11.372738 , 11.851088 ,\n",
       "       11.205783 , 11.605615 , 11.1680155, 11.1179085, 10.297432 ,\n",
       "       11.133019 , 11.258297 , 11.367032 , 10.050701 , 10.605611 ,\n",
       "       10.260218 , 10.340695 , 10.132229 , 11.269584 , 11.293035 ,\n",
       "       10.723493 , 11.057717 , 11.65945  , 11.578796 , 10.633372 ,\n",
       "       11.197065 , 10.702247 , 10.962427 , 10.715699 , 10.793029 ,\n",
       "       11.053658 , 10.086551 ,  9.855197 , 10.208607 , 10.908213 ,\n",
       "       10.362743 ,  9.845363 , 10.507664 , 10.2005625, 11.591882 ,\n",
       "       10.878092 , 10.85452  , 11.113186 ,  9.858717 , 10.771016 ,\n",
       "       10.63654  , 12.678552 , 11.071238 , 11.149466 , 11.043197 ,\n",
       "       10.6526375, 11.202668 , 11.382591 ,  9.924012 , 11.370097 ,\n",
       "       10.931579 , 11.377607 , 11.09911  , 10.455245 , 10.016759 ,\n",
       "       10.963083 , 11.312687 , 11.65839  , 10.936719 , 11.521207 ,\n",
       "       11.239635 , 11.461081 ,  9.663891 ,  9.454674 , 11.087161 ,\n",
       "       10.625394 , 10.929825 , 11.0237   , 10.635922 , 11.167666 ,\n",
       "       10.728324 , 10.75816  , 10.351666 , 11.947658 , 11.47437  ,\n",
       "       11.12622  , 10.786316 , 11.177214 , 11.564166 , 11.176895 ,\n",
       "       11.146146 , 11.2101   , 10.99366  ,  9.728074 , 10.5043   ,\n",
       "        9.700295 , 12.024472 , 11.403544 , 10.749974 , 10.739704 ,\n",
       "       10.609326 , 11.528872 , 10.791388 , 11.139219 , 10.284756 ,\n",
       "       11.393957 , 11.291116 , 11.169609 , 10.886126 , 11.052316 ,\n",
       "       11.170727 , 10.072518 , 11.575964 , 11.137015 , 10.600674 ,\n",
       "       10.241468 , 10.056884 , 10.073718 ,  9.997695 ,  9.877188 ,\n",
       "       11.566878 , 10.762219 , 10.192819 , 10.580823 , 10.108203 ,\n",
       "       10.978251 , 11.378731 , 10.13361  , 10.455991 , 10.63654  ,\n",
       "       11.900907 , 11.654209 , 10.47425  , 10.88849  ,  9.9036875,\n",
       "       10.928979 , 11.47437  , 10.828105 , 11.570905 , 11.421405 ,\n",
       "       10.346212 , 10.421773 , 10.446091 , 10.593309 , 10.111849 ,\n",
       "       10.903588 , 10.739704 , 11.170727 , 10.201361 , 10.146667 ,\n",
       "       10.851109 ,  9.845068 , 10.582559 , 10.2802   , 11.420181 ,\n",
       "       10.585519 , 10.561373 , 10.83542  , 10.179963 , 11.766961 ,\n",
       "       10.798255 , 10.621761 ,  9.353931 , 10.620939 , 11.170727 ,\n",
       "       10.834411 , 10.934456 , 10.7722435, 11.000525 , 10.965573 ,\n",
       "       12.084091 , 10.439398 , 11.732971 , 11.087942 , 10.7355   ,\n",
       "       11.147777 , 11.177214 , 10.829802 ,  9.677307 , 11.2645645,\n",
       "       12.438644 , 11.386502 , 11.109352 , 10.490965 , 10.810555 ,\n",
       "       10.835294 ,  9.767189 , 10.615288 , 10.744269 , 10.022141 ,\n",
       "       11.350974 , 10.083812 , 11.225552 , 11.078597 , 10.102638 ,\n",
       "       10.604665 , 11.572865 ,  9.746388 , 10.428987 ,  9.685859 ,\n",
       "       10.21707  , 11.290559 , 10.1244545, 11.311587 ,  9.792575 ,\n",
       "       10.849682 , 11.359201 , 11.436104 ,  9.934582 , 10.74148  ,\n",
       "       11.693366 , 11.763794 , 11.46934  , 10.789864 , 11.643322 ,\n",
       "       10.714636 , 10.318129 , 10.482333 ,  9.951614 , 10.637584 ,\n",
       "       11.575859 , 11.551661 , 10.619113 , 11.576425 , 11.639591 ,\n",
       "        9.476368 , 11.382655 , 11.631863 , 10.018583 , 11.573552 ,\n",
       "       11.365908 , 11.362684 , 12.244239 ,  9.88083  , 10.543292 ,\n",
       "       10.608413 , 10.903474 , 11.853732 , 10.715622 ,  9.6910305,\n",
       "       11.298299 , 11.232231 , 11.2417555, 11.8668995, 10.5424   ,\n",
       "       10.477189 , 11.157571 , 10.894769 , 11.666698 , 10.723493 ,\n",
       "       11.064323 , 10.573663 , 11.72579  , 10.897859 , 10.638257 ],\n",
       "      dtype=float32)"
      ]
     },
     "execution_count": 53,
     "metadata": {},
     "output_type": "execute_result"
    }
   ],
   "source": [
    "np.squeeze(res[1])"
   ]
  },
  {
   "cell_type": "markdown",
   "metadata": {},
   "source": [
    "# Hyperparameter Tuning"
   ]
  },
  {
   "cell_type": "markdown",
   "metadata": {},
   "source": [
    "Grid search"
   ]
  },
  {
   "cell_type": "code",
   "execution_count": 58,
   "metadata": {},
   "outputs": [],
   "source": [
    "def model_builder(hp):\n",
    "  hp_units = hp.Int('units', min_value=32, max_value=512, step=32)\n",
    "\n",
    "  inputs = tf.keras.Input(shape=(44,))\n",
    "  dense1 = Dense(units=hp_units, activation=\"relu\")(inputs)\n",
    "  dense2 = Dense(units=hp_units,activation=tf.keras.layers.LeakyReLU(alpha=0.2),kernel_initializer=tf.keras.initializers.GlorotUniform())(dense1)\n",
    "  cat_layer = tf.keras.layers.Concatenate(axis=1)([dense1,dense2])\n",
    "  out = Dense(1,activation='linear')(cat_layer)\n",
    "\n",
    "  model = Model(inputs=inputs, outputs=out)\n",
    "\n",
    "  # Tune the learning rate for the optimizer\n",
    "  # Choose an optimal value from 0.01, 0.001, or 0.0001\n",
    "  hp_learning_rate = hp.Choice('learning_rate', values=[1e-2, 1e-3, 1e-4])\n",
    "\n",
    "  model.compile(optimizer=tf.keras.optimizers.Adam(learning_rate=hp_learning_rate)\n",
    "              ,loss=tf.keras.losses.MeanSquaredError()\n",
    "              ,metrics=[tf.keras.metrics.MeanAbsoluteError(),tf.keras.metrics.RootMeanSquaredError()])\n",
    "\n",
    "  return model"
   ]
  },
  {
   "cell_type": "code",
   "execution_count": 59,
   "metadata": {},
   "outputs": [
    {
     "name": "stdout",
     "output_type": "stream",
     "text": [
      "Reloading Tuner from exp\\kt\\tuner0.json\n"
     ]
    }
   ],
   "source": [
    "tuner = kt.Hyperband(model_builder,\n",
    "                     objective='val_loss',\n",
    "                     max_epochs=10,\n",
    "                     factor=3,\n",
    "                     directory='exp',\n",
    "                     project_name='kt')"
   ]
  },
  {
   "cell_type": "code",
   "execution_count": 60,
   "metadata": {},
   "outputs": [],
   "source": [
    "stop_early = tf.keras.callbacks.EarlyStopping(monitor='val_loss', patience=3)\n",
    "tuner.search(x_train,y_train, epochs=50, validation_split=0.2, callbacks=[stop_early])\n",
    "\n",
    "# Get the optimal hyperparameters\n",
    "best_hps=tuner.get_best_hyperparameters(num_trials=1)[0]"
   ]
  },
  {
   "cell_type": "code",
   "execution_count": 63,
   "metadata": {},
   "outputs": [
    {
     "data": {
      "text/plain": [
       "{'units': 480,\n",
       " 'learning_rate': 0.001,\n",
       " 'tuner/epochs': 10,\n",
       " 'tuner/initial_epoch': 0,\n",
       " 'tuner/bracket': 0,\n",
       " 'tuner/round': 0}"
      ]
     },
     "execution_count": 63,
     "metadata": {},
     "output_type": "execute_result"
    }
   ],
   "source": [
    "best_hps.values"
   ]
  }
 ],
 "metadata": {
  "kernelspec": {
   "display_name": "tf_gpu_env",
   "language": "python",
   "name": "python3"
  },
  "language_info": {
   "codemirror_mode": {
    "name": "ipython",
    "version": 3
   },
   "file_extension": ".py",
   "mimetype": "text/x-python",
   "name": "python",
   "nbconvert_exporter": "python",
   "pygments_lexer": "ipython3",
   "version": "3.10.13"
  }
 },
 "nbformat": 4,
 "nbformat_minor": 2
}
