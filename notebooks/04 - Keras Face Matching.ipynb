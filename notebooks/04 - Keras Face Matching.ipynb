{
 "cells": [
  {
   "cell_type": "code",
   "execution_count": null,
   "metadata": {},
   "outputs": [],
   "source": [
    "from matplotlib import pyplot as plt\n",
    "from mtcnn.mtcnn import MTCNN\n",
    "from PIL import Image \n",
    "import numpy as np\n",
    "import os\n",
    "\n",
    "from matplotlib.patches import Rectangle\n",
    "from keras_vggface.utils import preprocess_input\n",
    "from keras_vggface.vggface import VGGFace\n",
    "from scipy.spatial.distance import cosine"
   ]
  },
  {
   "cell_type": "code",
   "execution_count": null,
   "metadata": {},
   "outputs": [],
   "source": [
    "IMAGE_PATH = 'data/samples/my-face.png'\n",
    "im = Image.open(IMAGE_PATH)\n",
    "min_size = im.size[0] if im.size[0]<=im.size[1] else im.size[1]\n",
    "left = int(im.size[0]/2-min_size/2)\n",
    "upper = int(im.size[1]/2-min_size/2)\n",
    "right = left + min_size\n",
    "lower = upper + min_size\n",
    "\n",
    "im_cropped = im.crop((left, upper,right,lower))\n",
    "print(im_cropped.size)\n",
    "im_cropped.show()"
   ]
  },
  {
   "cell_type": "code",
   "execution_count": null,
   "metadata": {},
   "outputs": [],
   "source": [
    "IMAGE_PATH = 'data/samples/boyband.png'\n",
    "im = Image.open(IMAGE_PATH)"
   ]
  },
  {
   "cell_type": "code",
   "execution_count": null,
   "metadata": {},
   "outputs": [],
   "source": [
    "np_img =  np.array(im_cropped)[:,:,0:3]\n",
    "np_img.shape"
   ]
  },
  {
   "cell_type": "code",
   "execution_count": null,
   "metadata": {},
   "outputs": [],
   "source": [
    "detector = MTCNN()\n",
    "\n",
    "faces = detector.detect_faces(np_img)\n",
    "print(faces)"
   ]
  },
  {
   "cell_type": "code",
   "execution_count": null,
   "metadata": {},
   "outputs": [],
   "source": [
    "def highlight_faces(image, faces,image_path=None):\n",
    "  # display image\n",
    "  if image_path:\n",
    "    image = plt.imread(image_path)\n",
    "  plt.imshow(image)\n",
    "\n",
    "  ax = plt.gca()\n",
    "\n",
    "  # for each face, draw a rectangle based on coordinates\n",
    "  for face in faces:\n",
    "    x, y, width, height = face['box']\n",
    "    face_border = Rectangle((x, y), width, height,\n",
    "                          fill=False, color='red')\n",
    "    ax.add_patch(face_border)\n",
    "  plt.show()"
   ]
  },
  {
   "cell_type": "code",
   "execution_count": null,
   "metadata": {},
   "outputs": [],
   "source": [
    "highlight_faces(np_img, faces)"
   ]
  },
  {
   "cell_type": "markdown",
   "metadata": {},
   "source": [
    "# Pack It in A Function"
   ]
  },
  {
   "cell_type": "code",
   "execution_count": null,
   "metadata": {},
   "outputs": [],
   "source": [
    "def extract_face_from_image(image_path, required_size=(224, 224),square=False):\n",
    "  # load image and detect faces\n",
    "  im = Image.open(image_path)\n",
    "\n",
    "  if square:\n",
    "    min_size = im.size[0] if im.size[0]<=im.size[1] else im.size[1]\n",
    "    left = int(im.size[0]/2-min_size/2)\n",
    "    upper = int(im.size[1]/2-min_size/2)\n",
    "    right = left + min_size\n",
    "    lower = upper + min_size\n",
    "\n",
    "    im = im.crop((left, upper,right,lower))\n",
    "  im_cropped =  np.array(im)[:,:,0:3]\n",
    "\n",
    "  detector = MTCNN()\n",
    "  faces = detector.detect_faces(im_cropped)\n",
    "\n",
    "  face_images = []\n",
    "\n",
    "  for face in faces:\n",
    "    # extract the bounding box from the requested face\n",
    "    x1, y1, width, height = face['box']\n",
    "    x2, y2 = x1 + width, y1 + height\n",
    "\n",
    "    # extract the face\n",
    "    face_boundary = im_cropped[y1:y2, x1:x2]\n",
    "\n",
    "    # resize pixels to the model size\n",
    "    face_image = Image.fromarray(face_boundary)\n",
    "    face_image = face_image.resize(required_size)\n",
    "    face_array = np.asarray(face_image)\n",
    "    face_images.append(face_array)\n",
    "\n",
    "  return face_images"
   ]
  },
  {
   "cell_type": "code",
   "execution_count": null,
   "metadata": {},
   "outputs": [],
   "source": [
    "BASE_PATH = 'data/samples'\n",
    "extracted_face = extract_face_from_image(os.path.join(BASE_PATH,'boyband.png'))"
   ]
  },
  {
   "cell_type": "code",
   "execution_count": null,
   "metadata": {},
   "outputs": [],
   "source": [
    "plt.imshow(extracted_face[8])"
   ]
  },
  {
   "cell_type": "code",
   "execution_count": null,
   "metadata": {},
   "outputs": [],
   "source": []
  },
  {
   "cell_type": "code",
   "execution_count": null,
   "metadata": {},
   "outputs": [],
   "source": [
    "def get_model_scores(faces):\n",
    "  samples = np.asarray(faces, 'float32')\n",
    "\n",
    "  # prepare the data for the model\n",
    "  samples = preprocess_input(samples, version=2)\n",
    "\n",
    "  # create a vggface model object\n",
    "  model = VGGFace(model='resnet50',\n",
    "      include_top=False,\n",
    "      input_shape=(224, 224, 3),\n",
    "      pooling='avg')\n",
    "\n",
    "  # perform prediction\n",
    "  return model.predict(samples)"
   ]
  },
  {
   "cell_type": "code",
   "execution_count": null,
   "metadata": {},
   "outputs": [],
   "source": [
    "faces = [extract_face_from_image(os.path.join(BASE_PATH,image_path))\n",
    "         for image_path in ['my-face.png','boyband.png']]\n",
    "\n",
    "model_scores = [get_model_scores(i) for i in faces]"
   ]
  },
  {
   "cell_type": "code",
   "execution_count": null,
   "metadata": {},
   "outputs": [],
   "source": [
    "model_scores"
   ]
  },
  {
   "cell_type": "code",
   "execution_count": null,
   "metadata": {},
   "outputs": [],
   "source": [
    "# len(model_scores[0][0])\n",
    "cosine(model_scores[0][0],model_scores[1][0])"
   ]
  },
  {
   "cell_type": "code",
   "execution_count": null,
   "metadata": {},
   "outputs": [],
   "source": [
    "for i in range(len(model_scores[1])):\n",
    "    cosine_score = cosine(model_scores[0][0], model_scores[1][i])\n",
    "    if cosine_score <= 0.4:\n",
    "        print(\"Face Matched with face {} with a score of {}\".format(i,cosine_score))\n",
    "        fig = plt.figure(figsize=(10, 7))\n",
    "        fig.add_subplot(1, 2, 1) \n",
    "        plt.imshow(faces[0][0])\n",
    "        fig.add_subplot(1, 2, 2)\n",
    "        plt.imshow(faces[1][i])\n",
    "        plt.show()"
   ]
  }
 ],
 "metadata": {
  "kernelspec": {
   "display_name": "tf28",
   "language": "python",
   "name": "python3"
  },
  "language_info": {
   "codemirror_mode": {
    "name": "ipython",
    "version": 3
   },
   "file_extension": ".py",
   "mimetype": "text/x-python",
   "name": "python",
   "nbconvert_exporter": "python",
   "pygments_lexer": "ipython3",
   "version": "3.10.13"
  }
 },
 "nbformat": 4,
 "nbformat_minor": 2
}
